{
  "nbformat": 4,
  "nbformat_minor": 0,
  "metadata": {
    "colab": {
      "provenance": []
    },
    "kernelspec": {
      "name": "python3",
      "display_name": "Python 3"
    },
    "language_info": {
      "name": "python"
    }
  },
  "cells": [
    {
      "cell_type": "markdown",
      "source": [
        "Python + Google Colab: Algoritmalar ve Veri Yapıları Eğitimi (Sıfırdan İleriye)    \n",
        "Ders 8. Python Programlama Dili Üzerinde İstisnalar & Hata Yönetimi\n",
        "\n",
        "Github Kaynagı:       \n",
        "https://github.com/acetinkaya/Python-Google-Colab-Algoritmalar-ve-Veri-Yapilari-Egitimi --> D8\n",
        "\n",
        "Öğr. Gör. Ali ÇETİNKAYA - 2025"
      ],
      "metadata": {
        "id": "0ay-Cjl8h8zX"
      }
    },
    {
      "cell_type": "code",
      "execution_count": null,
      "metadata": {
        "colab": {
          "base_uri": "https://localhost:8080/"
        },
        "id": "ysRIoo1kh3te",
        "outputId": "0a235376-feb2-4eb6-8ca9-dafd156abfd0"
      },
      "outputs": [
        {
          "output_type": "stream",
          "name": "stdout",
          "text": [
            "Merhaba, Python Veri Yapıları ve Algoritmalar / Ders 8\n"
          ]
        }
      ],
      "source": [
        "print(\"Merhaba, Python Veri Yapıları ve Algoritmalar / Ders 8\")"
      ]
    },
    {
      "cell_type": "code",
      "source": [
        "import sys  # import python programlama dilinde yazılıma kütüphane eklemeye yarayan bir kod blogudur.\n",
        "print(sys.version)"
      ],
      "metadata": {
        "colab": {
          "base_uri": "https://localhost:8080/"
        },
        "id": "XosNEqDi67Uz",
        "outputId": "dd2e059e-eb4f-40c9-d894-2c6628e012ea"
      },
      "execution_count": null,
      "outputs": [
        {
          "output_type": "stream",
          "name": "stdout",
          "text": [
            "3.10.12 (main, Nov  6 2024, 20:22:13) [GCC 11.4.0]\n"
          ]
        }
      ]
    },
    {
      "cell_type": "code",
      "source": [
        "from google.colab import drive # google colab - drive bağlantısı\n",
        "\n",
        "drive.mount('/content/drive')"
      ],
      "metadata": {
        "colab": {
          "base_uri": "https://localhost:8080/"
        },
        "id": "3RK_pb147Ahg",
        "outputId": "3e568041-3353-4006-9a48-ddc4eb651ede"
      },
      "execution_count": null,
      "outputs": [
        {
          "output_type": "stream",
          "name": "stdout",
          "text": [
            "Mounted at /content/drive\n"
          ]
        }
      ]
    },
    {
      "cell_type": "code",
      "source": [
        "import os\n",
        "\n",
        "os.chdir('/content/drive/My Drive/VERIYAPILARI_PYTHON')\n",
        "\n",
        "!pwd # bize kodun çıktısını dosya yolu olarak veren kod blogudur."
      ],
      "metadata": {
        "colab": {
          "base_uri": "https://localhost:8080/"
        },
        "id": "PVUKOmiV7SNV",
        "outputId": "d1e68473-e952-46fc-c5c4-741e7da6a92a"
      },
      "execution_count": null,
      "outputs": [
        {
          "output_type": "stream",
          "name": "stdout",
          "text": [
            "/content/drive/My Drive/VERIYAPILARI_PYTHON\n"
          ]
        }
      ]
    },
    {
      "cell_type": "markdown",
      "source": [
        "# Ders 8. Python Programlama Dili Üzerinde İstisnalar & Hata Yönetimi"
      ],
      "metadata": {
        "id": "4cdfg73SRU_i"
      }
    },
    {
      "cell_type": "markdown",
      "source": [
        "• ZeroDivisionError: Mod alma ve Sıfıra bölme işlemlerinde karşılaşılır.\n",
        "\n",
        "• FileNotFoundError: Dosya yoluna erişilemediğinde karşılaşılır.\n",
        "\n",
        "• ValueError: Uyumsuz veri türü algılandığında karşılaşılır.\n",
        "\n",
        "• TypeError: Uyumsuz veri ile çalışıldığında karşılaşılır.\n",
        "\n",
        "• NameError: Tanımlanmamış bir değişken çalıştırıldığında karşılaşılır.\n",
        "\n",
        "• IndexError: Bir list veri tipi içerisinde geçerli olmayan indekse erişiminde\n",
        "karşılaşılır.\n",
        "\n",
        "• KeyError: Bir sözlük veri tipinde (dictionary), var olmayan bir anahtar\n",
        "(key) kullanıldığında karşılaşılır."
      ],
      "metadata": {
        "id": "dqqy5atyc4XU"
      }
    },
    {
      "cell_type": "code",
      "source": [
        "print(\"Merhaba Dünya'"
      ],
      "metadata": {
        "colab": {
          "base_uri": "https://localhost:8080/",
          "height": 106
        },
        "id": "MSJ2SgEvdEyu",
        "outputId": "8e9817da-7944-4377-80a2-2a922cf8a1f9"
      },
      "execution_count": null,
      "outputs": [
        {
          "output_type": "error",
          "ename": "SyntaxError",
          "evalue": "unterminated string literal (detected at line 1) (<ipython-input-11-96ef7171b8af>, line 1)",
          "traceback": [
            "\u001b[0;36m  File \u001b[0;32m\"<ipython-input-11-96ef7171b8af>\"\u001b[0;36m, line \u001b[0;32m1\u001b[0m\n\u001b[0;31m    print(\"Merhaba Dünya'\u001b[0m\n\u001b[0m          ^\u001b[0m\n\u001b[0;31mSyntaxError\u001b[0m\u001b[0;31m:\u001b[0m unterminated string literal (detected at line 1)\n"
          ]
        }
      ]
    },
    {
      "cell_type": "code",
      "source": [
        "x = 5 / 0"
      ],
      "metadata": {
        "colab": {
          "base_uri": "https://localhost:8080/",
          "height": 141
        },
        "id": "37VKxMP-dmj6",
        "outputId": "3c0001eb-b520-439e-ac07-da5930b37442"
      },
      "execution_count": null,
      "outputs": [
        {
          "output_type": "error",
          "ename": "ZeroDivisionError",
          "evalue": "division by zero",
          "traceback": [
            "\u001b[0;31m---------------------------------------------------------------------------\u001b[0m",
            "\u001b[0;31mZeroDivisionError\u001b[0m                         Traceback (most recent call last)",
            "\u001b[0;32m<ipython-input-12-e0e8ba613f7d>\u001b[0m in \u001b[0;36m<cell line: 1>\u001b[0;34m()\u001b[0m\n\u001b[0;32m----> 1\u001b[0;31m \u001b[0mx\u001b[0m \u001b[0;34m=\u001b[0m \u001b[0;36m5\u001b[0m \u001b[0;34m/\u001b[0m \u001b[0;36m0\u001b[0m\u001b[0;34m\u001b[0m\u001b[0;34m\u001b[0m\u001b[0m\n\u001b[0m",
            "\u001b[0;31mZeroDivisionError\u001b[0m: division by zero"
          ]
        }
      ]
    },
    {
      "cell_type": "code",
      "source": [
        "try:\n",
        "  sayi = int(input(\"Bir sayı gir!!\"))\n",
        "  print(sayi)\n",
        "except ValueError:\n",
        "  print(\"Hata: Girilen veri sayı değildir!!\")\n",
        "else:\n",
        "  print(\"Giriş işlemi başarılı\")\n",
        "finally:\n",
        "  print(\"Program sonlandırıldı.\")"
      ],
      "metadata": {
        "colab": {
          "base_uri": "https://localhost:8080/"
        },
        "id": "TYlsGu14dvzj",
        "outputId": "fa10ef8f-37be-4d94-ea6e-c0859688927f"
      },
      "execution_count": null,
      "outputs": [
        {
          "output_type": "stream",
          "name": "stdout",
          "text": [
            "Bir sayı gir!!12a\n",
            "Hata: Girilen veri sayı değildir!!\n",
            "Program sonlandırıldı.\n"
          ]
        }
      ]
    },
    {
      "cell_type": "code",
      "source": [
        "try:\n",
        "  s = 5 / 0\n",
        "  degisken = int(s)\n",
        "except ZeroDivisionError:\n",
        "  print(\"Dönüşüm Hatası\")\n",
        "else:\n",
        "  print(\"işlem tamamlandı\", degisken)\n",
        "finally:\n",
        "  print(\"program bitti\")\n"
      ],
      "metadata": {
        "colab": {
          "base_uri": "https://localhost:8080/"
        },
        "id": "sH_ndzk9ewvs",
        "outputId": "818344ed-8d93-4d31-fd5e-ac15fa96df48"
      },
      "execution_count": null,
      "outputs": [
        {
          "output_type": "stream",
          "name": "stdout",
          "text": [
            "Dönüşüm Hatası\n",
            "program bitti\n"
          ]
        }
      ]
    },
    {
      "cell_type": "code",
      "source": [
        "while True:\n",
        "  girdi = input(\"Bir sayı gir(Çıkmak için 'q' bas)\")\n",
        "  if girdi.lower() == 'q':\n",
        "    print(\"Programdan Çıkılıyor\")\n",
        "    break\n",
        "  try:\n",
        "    sayi = float(girdi)\n",
        "  except ValueError:\n",
        "    print(\"Hata: Girilen veri sayı değildir!!\")\n",
        "    continue\n",
        "\n",
        "  if sayi == 0:\n",
        "    print(\"Sayı sıfırdır\")\n",
        "  elif sayi>0:\n",
        "    print(\"Sayı pozitif\")\n",
        "  else:\n",
        "    print(\"Sayı negatif\")\n",
        "\n",
        "  break"
      ],
      "metadata": {
        "colab": {
          "base_uri": "https://localhost:8080/"
        },
        "id": "7VPMGQsBfQYL",
        "outputId": "0be10db4-5042-47d5-fccf-8687c7588aca"
      },
      "execution_count": null,
      "outputs": [
        {
          "output_type": "stream",
          "name": "stdout",
          "text": [
            "Bir sayı gir(Çıkmak için 'q' bas)123A23\n",
            "Hata: Girilen veri sayı değildir!!\n",
            "Bir sayı gir(Çıkmak için 'q' bas)12A\n",
            "Hata: Girilen veri sayı değildir!!\n",
            "Bir sayı gir(Çıkmak için 'q' bas)12\n",
            "Sayı pozitif\n"
          ]
        }
      ]
    }
  ]
}