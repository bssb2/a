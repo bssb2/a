{
  "nbformat": 4,
  "nbformat_minor": 0,
  "metadata": {
    "colab": {
      "provenance": []
    },
    "kernelspec": {
      "name": "python3",
      "display_name": "Python 3"
    },
    "language_info": {
      "name": "python"
    }
  },
  "cells": [
    {
      "cell_type": "markdown",
      "source": [
        "Python + Google Colab: Algoritmalar ve Veri Yapıları Eğitimi (Sıfırdan İleriye)    \n",
        "Ders 12. Veri Bilimine Giriş ve Python Kütüphaneleri (OS, Pandas)\n",
        "\n",
        "Github Kaynagı:       \n",
        "https://github.com/acetinkaya/Python-Google-Colab-Algoritmalar-ve-Veri-Yapilari-Egitimi --> D12\n",
        "\n",
        "Öğr. Gör. Ali ÇETİNKAYA - 2025\n"
      ],
      "metadata": {
        "id": "0ay-Cjl8h8zX"
      }
    },
    {
      "cell_type": "code",
      "execution_count": 1,
      "metadata": {
        "colab": {
          "base_uri": "https://localhost:8080/"
        },
        "id": "ysRIoo1kh3te",
        "outputId": "b5925a22-edc9-4fd2-ed1b-b30916f212d7"
      },
      "outputs": [
        {
          "output_type": "stream",
          "name": "stdout",
          "text": [
            "Merhaba, Python Veri Yapıları ve Algoritmalar / Ders 12\n"
          ]
        }
      ],
      "source": [
        "print(\"Merhaba, Python Veri Yapıları ve Algoritmalar / Ders 12\")"
      ]
    },
    {
      "cell_type": "code",
      "source": [
        "import sys  # import python programlama dilinde yazılıma kütüphane eklemeye yarayan bir kod blogudur.\n",
        "print(sys.version)"
      ],
      "metadata": {
        "colab": {
          "base_uri": "https://localhost:8080/"
        },
        "id": "XosNEqDi67Uz",
        "outputId": "2f1a2f2a-49fb-44d2-9532-6a00499ced78"
      },
      "execution_count": 2,
      "outputs": [
        {
          "output_type": "stream",
          "name": "stdout",
          "text": [
            "3.11.11 (main, Dec  4 2024, 08:55:07) [GCC 11.4.0]\n"
          ]
        }
      ]
    },
    {
      "cell_type": "code",
      "source": [
        "from google.colab import drive # google colab - drive bağlantısı\n",
        "\n",
        "drive.mount('/content/drive')"
      ],
      "metadata": {
        "colab": {
          "base_uri": "https://localhost:8080/"
        },
        "id": "3RK_pb147Ahg",
        "outputId": "88a34645-ed24-4bcf-ac37-03d64fc4f91c"
      },
      "execution_count": 3,
      "outputs": [
        {
          "output_type": "stream",
          "name": "stdout",
          "text": [
            "Mounted at /content/drive\n"
          ]
        }
      ]
    },
    {
      "cell_type": "code",
      "source": [
        "import os\n",
        "\n",
        "os.chdir('/content/drive/My Drive/VERIYAPILARI_PYTHON')\n",
        "\n",
        "!pwd # bize kodun çıktısını dosya yolu olarak veren kod blogudur."
      ],
      "metadata": {
        "colab": {
          "base_uri": "https://localhost:8080/"
        },
        "id": "PVUKOmiV7SNV",
        "outputId": "cf50a73a-6ee4-4c69-80e4-713c2bbe966b"
      },
      "execution_count": 4,
      "outputs": [
        {
          "output_type": "stream",
          "name": "stdout",
          "text": [
            "/content/drive/My Drive/VERIYAPILARI_PYTHON\n"
          ]
        }
      ]
    },
    {
      "cell_type": "markdown",
      "source": [
        "# Ders 12. Veri Bilimine Giriş ve Python Kütüphaneleri (OS, Pandas)\n",
        "\n",
        "Veri Bilimi ve Önemi:\n",
        "\n",
        "Veri bilimi, büyük hacimli verilerden anlamlı bilgiler elde etmek için istatistik, programlama ve makine öğrenmesi tekniklerini kullanan disiplinler arası bir alan olarak tanımlanır. Günümüzde büyük veri ve yapay zeka teknolojilerinin gelişmesiyle birlikte, veri bilimi iş dünyasında, akademik araştırmalarda ve günlük hayatımızda kritik bir rol oynamaktadır. Veri bilimi, veriyi toplama, temizleme, analiz etme ve modelleme süreçlerini kapsayarak veri odaklı karar alma mekanizmalarını güçlendirir.\n",
        "\n",
        "## 12.1 Python Kütüphaneleri ve Veri Bilimindeki Rolü:\n",
        "\n",
        "Python, veri bilimi ve yapay zeka uygulamalarında en yaygın kullanılan programlama dillerinden biridir. Bunun temel sebebi, Python’un sunduğu geniş kütüphane ekosistemidir. Veri işleme, analiz ve modelleme süreçlerinde en sık kullanılan Python kütüphaneleri şunlardır:\n",
        "\n",
        "OS: Dosya ve dizin yönetimi, sistem işlemleri gibi konularda yardımcı olur. Python’un os modülü sayesinde işletim sistemi bağımsız dosya işlemleri yapılabilir.\n",
        "\n",
        "Pandas: Veri manipülasyonu ve analizi için kullanılır. CSV, Excel ve SQL gibi farklı formatlardaki verilerle çalışmayı kolaylaştırır.\n",
        "\n",
        "NumPy: Matematiksel işlemler ve çok boyutlu diziler ile çalışmak için kullanılır.\n",
        "\n",
        "Matplotlib & Seaborn: Veri görselleştirme için kullanılır. Grafikler ve istatistiksel görselleştirmeler sağlar.\n",
        "\n",
        "Scikit - Learn & TensorFlow: Yapay zeka modellerinin geliştirilmesi için Derin öğrenme ve Makine öğrenmesi modellerinin oluşturulması ve değerlendirilmesi için kullanılır.\n",
        "\n",
        "Bu kütüphaneler, veri bilimi projelerinde veri analizi, makine öğrenmesi ve yapay zeka modellerinin geliştirilmesini kolaylaştırarak sürecin daha verimli hale gelmesini sağlar."
      ],
      "metadata": {
        "id": "N8O0VC5oQ898"
      }
    },
    {
      "cell_type": "markdown",
      "source": [
        "# Python Programlama Dili Kütüphanaleri\n",
        "\n",
        "1. os Kütüphanesi (Operating System) Nedir?\n",
        "\n",
        "Python'un standart kütüphanelerinden biri olan os, işletim sistemi ile etkileşim kurmak için kullanılır. Dosya ve klasör işlemleri gibi sistemle ilgili birçok işlemi gerçekleştirmek için bu kütüphane kullanılır.\n",
        "\n",
        "Kütüphane Özellikleri:\n",
        "\n",
        "* Dosya ve Klasör Yönetimi: Klasör oluşturma, silme ve yeniden adlandırma.\n",
        "Dosya yollarını kontrol etme veya değiştirme.\n",
        "\n",
        "* Sistem Bilgilerine Erişim: İşletim sistemi türünü ve çevresel değişkenleri öğrenme.\n",
        "\n",
        "* Dosya Yollarıyla Çalışma: Dosya yollarını birleştirme, ayırma veya uzantılarını kontrol etme.\n",
        "\n",
        "---\n",
        "\n",
        "2. Pandas Kütüphanesi Nedir?\n",
        "\n",
        "Pandas, Python'da veri analizi ve manipülasyonu için kullanılan popüler bir kütüphanedir. Veri çerçeveleri (DataFrame) ve listeler (list) ile çalışmayı kolaylaştırır ve büyük veri kümeleri üzerinde hızlı işlemler yapmanızı sağlar.\n",
        "\n",
        "Kütüphane Özellikleri:\n",
        "\n",
        "* Veri Okuma ve Yazma: CSV, Excel, JSON, SQL gibi farklı formatlardan veri okuma/yazma.\n",
        "\n",
        "* Veri Manipülasyonu: Sütun ekleme, çıkarma, filtreleme, gruplama ve sıralama.\n",
        "\n",
        "* Veri Analizi: İstatistiksel işlemler, veri temizleme ve görselleştirme hazırlıkları.\n",
        "\n",
        "--------------------------------------------------------------------------------\n",
        "\n",
        "PANDAS Kullanım Alanları:\n",
        "\n",
        "1. Veri Yapıları\n",
        "2. Veri Okuma ve Yazma\n",
        "3. Veri Seçme, Bireştirme, Dönüştürme, Temizleme ve Filtreleme\n",
        "4. Veri Analizi\n",
        "5. İstatiksel Hesaplama\n",
        "\n",
        "Pandas Veri Analizi Fonksiyonları ->\n",
        "\n",
        "1. df['Not'].min() # En düşük değeri bulur.\n",
        "\n",
        "2. df['Not'].mean() # Ortalama değeri hesaplar.\n",
        "\n",
        "3. df['Not'].median() # Medyanı bulur.\n",
        "\n",
        "4. df['Not'].std() # Standart sapmayı hesaplar.\n",
        "\n",
        "5. df['Not'].sum() # Toplam değeri bulur.\n",
        "\n",
        "6. df.describe() # Veri setinin özet istatistiklerini verir."
      ],
      "metadata": {
        "id": "7nPkWVQK0iS9"
      }
    },
    {
      "cell_type": "code",
      "source": [
        "import os\n",
        "\n",
        "print(\"Geçerli Dizin bilgisi: \", os.getcwd())"
      ],
      "metadata": {
        "colab": {
          "base_uri": "https://localhost:8080/"
        },
        "id": "Rq2LuL6x6LR1",
        "outputId": "8f3187e1-2052-4fca-c9a3-1ed2c704b375"
      },
      "execution_count": 5,
      "outputs": [
        {
          "output_type": "stream",
          "name": "stdout",
          "text": [
            "Geçerli Dizin bilgisi:  /content/drive/MyDrive/VERIYAPILARI_PYTHON\n"
          ]
        }
      ]
    },
    {
      "cell_type": "code",
      "source": [
        "klasor_yolu = \"/content/drive/MyDrive/VERIYAPILARI_PYTHON\"\n",
        "\n",
        "def dosya_sayisini_bul(klasor_yolu):\n",
        "  try:\n",
        "      ogeler = os.listdir(klasor_yolu)\n",
        "\n",
        "      dosya_sayisi = 0\n",
        "\n",
        "      for ogeler in ogeler:\n",
        "        if os.path.isfile(os.path.join(klasor_yolu, ogeler)):\n",
        "          dosya_sayisi += 1\n",
        "\n",
        "      return dosya_sayisi\n",
        "\n",
        "  except FileNotFoundError:\n",
        "    print(\"Dosya yolu hatalı\")\n",
        "  except PermissionError:\n",
        "    print(\"Bu klasöre erişiminiz yok\")\n",
        "\n",
        "print(\"Dosya Adedi: \", dosya_sayisini_bul(klasor_yolu))"
      ],
      "metadata": {
        "colab": {
          "base_uri": "https://localhost:8080/"
        },
        "id": "nYbJUK4467JN",
        "outputId": "0e0c60bf-49a4-4d9f-d79f-ae09a0d5b5d2"
      },
      "execution_count": 10,
      "outputs": [
        {
          "output_type": "stream",
          "name": "stdout",
          "text": [
            "Dosya Adedi:  16\n"
          ]
        }
      ]
    },
    {
      "cell_type": "code",
      "source": [
        "import pandas as pd\n",
        "\n",
        "data = {'Ders': ['Algoritma', 'Bilgisayarda Programlama', 'Elektronik-2', 'Aviyonik Sistemler'],\n",
        "        'Not': [95, 100, 65, 90]}\n",
        "\n",
        "df = pd.DataFrame(data)\n",
        "\n",
        "# En yüksek notu bulma\n",
        "\n",
        "en_yuksek_not = df['Not'].max()\n",
        "print(\"En yüksek not:\", en_yuksek_not)\n",
        "\n",
        "ortalama_not = df['Not'].mean()\n",
        "print(\"Ortalama not:\", ortalama_not)\n",
        "\n",
        "print(df.describe())"
      ],
      "metadata": {
        "colab": {
          "base_uri": "https://localhost:8080/"
        },
        "id": "8Kq6QwBZ8x2O",
        "outputId": "4ced4da7-9995-4ecb-da3b-b0d36e3ee2b9"
      },
      "execution_count": 13,
      "outputs": [
        {
          "output_type": "stream",
          "name": "stdout",
          "text": [
            "En yüksek not: 100\n",
            "Ortalama not: 87.5\n",
            "              Not\n",
            "count    4.000000\n",
            "mean    87.500000\n",
            "std     15.545632\n",
            "min     65.000000\n",
            "25%     83.750000\n",
            "50%     92.500000\n",
            "75%     96.250000\n",
            "max    100.000000\n"
          ]
        }
      ]
    }
  ]
}