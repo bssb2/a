{
  "nbformat": 4,
  "nbformat_minor": 0,
  "metadata": {
    "colab": {
      "provenance": []
    },
    "kernelspec": {
      "name": "python3",
      "display_name": "Python 3"
    },
    "language_info": {
      "name": "python"
    }
  },
  "cells": [
    {
      "cell_type": "markdown",
      "source": [
        "# Python + Google Colab: Algoritmalar ve Veri Yapıları Eğitimi (Sıfırdan İleriye)\n",
        "\n",
        "Ders 4-> Programlama Dilinde Operatör Kavramı ve İşlemler\n",
        "\n",
        "Github Kaynagı: https://github.com/acetinkaya/Python-Google-Colab-Algoritmalar-ve-Veri-Yapilari-Egitimi --> D4\n",
        "\n",
        "Öğr. Gör. Ali ÇETİNKAYA - 2025"
      ],
      "metadata": {
        "id": "0ay-Cjl8h8zX"
      }
    },
    {
      "cell_type": "code",
      "execution_count": null,
      "metadata": {
        "colab": {
          "base_uri": "https://localhost:8080/"
        },
        "id": "ysRIoo1kh3te",
        "outputId": "633a191e-2a30-4085-e1f8-9bd1ab29c930"
      },
      "outputs": [
        {
          "output_type": "stream",
          "name": "stdout",
          "text": [
            "Merhaba, Python Veri Yapıları ve Algoritmalar / Ders 4\n"
          ]
        }
      ],
      "source": [
        "print(\"Merhaba, Python Veri Yapıları ve Algoritmalar / Ders 4\")"
      ]
    },
    {
      "cell_type": "code",
      "source": [
        "import sys  # import python programlama dilinde yazılıma kütüphane eklemeye yarayan bir kod blogudur.\n",
        "print(sys.version)"
      ],
      "metadata": {
        "colab": {
          "base_uri": "https://localhost:8080/"
        },
        "id": "XosNEqDi67Uz",
        "outputId": "fa929392-d28b-426c-8a06-7c8b589066e8"
      },
      "execution_count": null,
      "outputs": [
        {
          "output_type": "stream",
          "name": "stdout",
          "text": [
            "3.10.12 (main, Nov  6 2024, 20:22:13) [GCC 11.4.0]\n"
          ]
        }
      ]
    },
    {
      "cell_type": "code",
      "source": [
        "from google.colab import drive # google colab - drive bağlantısı\n",
        "\n",
        "drive.mount('/content/drive')"
      ],
      "metadata": {
        "colab": {
          "base_uri": "https://localhost:8080/"
        },
        "id": "3RK_pb147Ahg",
        "outputId": "444fbe9d-9b21-4138-dc7d-7bc5db74d855"
      },
      "execution_count": null,
      "outputs": [
        {
          "output_type": "stream",
          "name": "stdout",
          "text": [
            "Mounted at /content/drive\n"
          ]
        }
      ]
    },
    {
      "cell_type": "code",
      "source": [
        "import os\n",
        "\n",
        "os.chdir('/content/drive/My Drive/VERIYAPILARI_PYTHON')\n",
        "\n",
        "!pwd # bize kodun çıktısını dosya yolu olarak veren kod blogudur."
      ],
      "metadata": {
        "colab": {
          "base_uri": "https://localhost:8080/"
        },
        "id": "PVUKOmiV7SNV",
        "outputId": "c8b5c574-46cf-408f-8907-502cf7a71c30"
      },
      "execution_count": null,
      "outputs": [
        {
          "output_type": "stream",
          "name": "stdout",
          "text": [
            "/content/drive/My Drive/VERIYAPILARI_PYTHON\n"
          ]
        }
      ]
    },
    {
      "cell_type": "code",
      "source": [
        "Ders_no = 4 # Int - tam sayı degiskeni tanımlanmıştır\n",
        "pi_sayisi = 3.14 # Float - kesirli sayı türü\n",
        "Dersin_ismi = \"Python - Veri Yapıları ve Algoritmalar\" # String - Metinsel bilgi türü\n",
        "durum1 = True # Bool degisken veri türü\n",
        "durum2 = False # Bool degisken  veri türü\n",
        "\n",
        "print(Ders_no)\n",
        "print(pi_sayisi)\n",
        "print(Dersin_ismi)\n",
        "print(durum1)\n",
        "print(durum2)"
      ],
      "metadata": {
        "id": "-CGHVycTY3q7",
        "colab": {
          "base_uri": "https://localhost:8080/"
        },
        "outputId": "ae193383-be04-46ce-9167-872f622ea8dd"
      },
      "execution_count": null,
      "outputs": [
        {
          "output_type": "stream",
          "name": "stdout",
          "text": [
            "4\n",
            "3.14\n",
            "Python - Veri Yapıları ve Algoritmalar\n",
            "True\n",
            "False\n"
          ]
        }
      ]
    },
    {
      "cell_type": "code",
      "source": [
        "print(\"1. Değişkenin Değeri: \", Ders_no, \"- 1. Değişkenin Türü: \", type(Ders_no))\n",
        "print(\"2. Değişkenin Değeri: \", pi_sayisi, \"- 2. Değişkenin Türü: \", type(pi_sayisi))\n",
        "print(\"3. Değişkenin Değeri: \", Dersin_ismi, \"- 3. Değişkenin Türü: \", type(Dersin_ismi))\n",
        "print(\"4. Değişkenin Değeri: \", durum1, \"- 4. Değişkenin Türü: \", type(durum1))\n",
        "print(\"5. Değişkenin Değeri: \", durum2, \"- 5. Değişkenin Türü: \", type(durum2))"
      ],
      "metadata": {
        "colab": {
          "base_uri": "https://localhost:8080/"
        },
        "id": "lRVKdwurbVMG",
        "outputId": "e236f3f8-d2d9-4c7f-e3cc-912de451c86f"
      },
      "execution_count": null,
      "outputs": [
        {
          "output_type": "stream",
          "name": "stdout",
          "text": [
            "1. Değişkenin Değeri:  4 - 1. Değişkenin Türü:  <class 'int'>\n",
            "2. Değişkenin Değeri:  3.14 - 2. Değişkenin Türü:  <class 'float'>\n",
            "3. Değişkenin Değeri:  Python - Veri Yapıları ve Algoritmalar - 3. Değişkenin Türü:  <class 'str'>\n",
            "4. Değişkenin Değeri:  True - 4. Değişkenin Türü:  <class 'bool'>\n",
            "5. Değişkenin Değeri:  False - 5. Değişkenin Türü:  <class 'bool'>\n"
          ]
        }
      ]
    },
    {
      "cell_type": "code",
      "source": [
        "a = 7\n",
        "b = 3\n",
        "\n",
        "print(\"Toplama:\", a+b)\n",
        "print(\"Üs Alma: \", a**b)\n",
        "print(\"Mod Alma:\", a%b)\n",
        "print(\"a == b:\", a == b)\n",
        "print(\"a > b:\", a > b)"
      ],
      "metadata": {
        "colab": {
          "base_uri": "https://localhost:8080/"
        },
        "id": "rCVGpnfzbVSn",
        "outputId": "f768cef6-00db-4970-cd75-9c68b8175508"
      },
      "execution_count": null,
      "outputs": [
        {
          "output_type": "stream",
          "name": "stdout",
          "text": [
            "Toplama: 10\n",
            "Üs Alma:  343\n",
            "Mod Alma: 1\n",
            "a == b: False\n",
            "a > b: True\n"
          ]
        }
      ]
    },
    {
      "cell_type": "code",
      "source": [
        "a = True # True - Doğru - 1\n",
        "b = False # False - Yanlış - 0\n",
        "\n",
        "print(\"a ve_kapısı b:\", a and b)\n",
        "print(\"a veya_kapısı b:\", a or b)\n",
        "print(\"a degiskenin tersliyoruz:\", not a)"
      ],
      "metadata": {
        "colab": {
          "base_uri": "https://localhost:8080/"
        },
        "id": "HOkz1o_PefQZ",
        "outputId": "b1904cf7-ca9b-4929-d015-a2eafc583a89"
      },
      "execution_count": null,
      "outputs": [
        {
          "output_type": "stream",
          "name": "stdout",
          "text": [
            "a ve_kapısı b: False\n",
            "a veya_kapısı b: True\n",
            "a degiskenin tersliyoruz: False\n"
          ]
        }
      ]
    },
    {
      "cell_type": "code",
      "source": [
        "x = 7\n",
        "y = 4\n",
        "\n",
        "x += 3 # x = x + 3\n",
        "y -= 3 # y = y - 3\n",
        "\n",
        "print(x)\n",
        "print(y)"
      ],
      "metadata": {
        "colab": {
          "base_uri": "https://localhost:8080/"
        },
        "id": "9DjX5AndfnbM",
        "outputId": "04c29f71-aa2a-4a8a-faa4-0dc1238200d9"
      },
      "execution_count": null,
      "outputs": [
        {
          "output_type": "stream",
          "name": "stdout",
          "text": [
            "10\n",
            "1\n"
          ]
        }
      ]
    },
    {
      "cell_type": "code",
      "source": [
        "a = 7\n",
        "b = 3\n",
        "\n",
        "print(a & b)\n",
        "print(a | b)\n",
        "print(a ^ b)"
      ],
      "metadata": {
        "colab": {
          "base_uri": "https://localhost:8080/"
        },
        "id": "jk1_HZnirK5h",
        "outputId": "dac5908e-6738-403a-b5a0-7ae31372e58c"
      },
      "execution_count": null,
      "outputs": [
        {
          "output_type": "stream",
          "name": "stdout",
          "text": [
            "3\n",
            "7\n",
            "4\n"
          ]
        }
      ]
    },
    {
      "cell_type": "markdown",
      "source": [
        "   (3210)2\n",
        "7 = 0111\n",
        "3 = 0011\n",
        "--------\n",
        "& = (0011)2 = (3)10\n",
        "\n",
        "--\n",
        "\n",
        "   (3210)2\n",
        "7 = 0111\n",
        "3 = 0011\n",
        "--------\n",
        "| = (0111)2 = (7)10\n",
        "\n",
        "--\n",
        "\n",
        "   (3210)2\n",
        "7 = 0111\n",
        "3 = 0011\n",
        "--------\n",
        "^ = (0100)2 = (4)10\n"
      ],
      "metadata": {
        "id": "m0lUjD_urq5c"
      }
    }
  ]
}