{
  "nbformat": 4,
  "nbformat_minor": 0,
  "metadata": {
    "colab": {
      "provenance": []
    },
    "kernelspec": {
      "name": "python3",
      "display_name": "Python 3"
    },
    "language_info": {
      "name": "python"
    }
  },
  "cells": [
    {
      "cell_type": "markdown",
      "source": [
        "# Python + Google Colab: Algoritmalar ve Veri Yapıları Eğitimi (Sıfırdan İleriye)\n",
        "\n",
        "Ders 7. Algoritma Geliştirme: Sıralı, Koşullu ve Tekrarlı Yapılar\n",
        "\n",
        "Github Kaynagı: https://github.com/acetinkaya/Python-Google-Colab-Algoritmalar-ve-Veri-Yapilari-Egitimi --> D7\n",
        "\n",
        "Öğr. Gör. Ali ÇETİNKAYA - 2025"
      ],
      "metadata": {
        "id": "fliTAw7ARz11"
      }
    },
    {
      "cell_type": "code",
      "execution_count": null,
      "metadata": {
        "colab": {
          "base_uri": "https://localhost:8080/"
        },
        "id": "DQwm1J0ZRpE0",
        "outputId": "fd657ad2-591f-431b-85a4-d9566a7e53f4"
      },
      "outputs": [
        {
          "output_type": "stream",
          "name": "stdout",
          "text": [
            "Merhaba, Python Veri Yapıları ve Algoritmalar / Ders 7\n"
          ]
        }
      ],
      "source": [
        "print(\"Merhaba, Python Veri Yapıları ve Algoritmalar / Ders 7\")"
      ]
    },
    {
      "cell_type": "code",
      "source": [
        "import sys  # import python programlama dilinde yazılıma kütüphane eklemeye yarayan bir kod blogudur.\n",
        "print(sys.version)"
      ],
      "metadata": {
        "colab": {
          "base_uri": "https://localhost:8080/"
        },
        "id": "t6cEPapuSOdo",
        "outputId": "11cd6adc-7f76-4776-a470-74ebda731a9b"
      },
      "execution_count": null,
      "outputs": [
        {
          "output_type": "stream",
          "name": "stdout",
          "text": [
            "3.10.12 (main, Nov  6 2024, 20:22:13) [GCC 11.4.0]\n"
          ]
        }
      ]
    },
    {
      "cell_type": "code",
      "source": [
        "from google.colab import drive # google colab - drive bağlantısı\n",
        "\n",
        "drive.mount('/content/drive')"
      ],
      "metadata": {
        "colab": {
          "base_uri": "https://localhost:8080/"
        },
        "id": "EV81wF4BSQZd",
        "outputId": "c94bdf88-2e00-48ae-a741-e977a1839763"
      },
      "execution_count": null,
      "outputs": [
        {
          "output_type": "stream",
          "name": "stdout",
          "text": [
            "Mounted at /content/drive\n"
          ]
        }
      ]
    },
    {
      "cell_type": "code",
      "source": [
        "import os\n",
        "\n",
        "os.chdir('/content/drive/My Drive/VERIYAPILARI_PYTHON')\n",
        "\n",
        "!pwd # bize kodun çıktısını dosya yolu olarak veren kod blogudur."
      ],
      "metadata": {
        "colab": {
          "base_uri": "https://localhost:8080/"
        },
        "id": "LcVsOFMiSVjp",
        "outputId": "c0f99c22-1ac1-4e7d-fc90-317cf7e2cece"
      },
      "execution_count": null,
      "outputs": [
        {
          "output_type": "stream",
          "name": "stdout",
          "text": [
            "/content/drive/My Drive/VERIYAPILARI_PYTHON\n"
          ]
        }
      ]
    },
    {
      "cell_type": "markdown",
      "source": [
        "## Ders 7. Algoritma Geliştirme: Sıralı, Koşullu ve Tekrarlı Yapılar   \n",
        "7.1. Sıralı, Koşullu ve Tekrarlı Yapılar  \n",
        "7.2. Python Programlama Dili Üzerinde Sıralı Yapılar  \n",
        "7.3. Python Programlama Dili Üzerinde Koşul Yapıları  \n",
        "7.4. Python Programlama Dili Üzerinde Döngü Yapıları  \n",
        "7.5. Python Programlama Dili Üzerinde Sıralı, Koşul & Döngü Örnekleri  "
      ],
      "metadata": {
        "id": "serSk-meSZk7"
      }
    },
    {
      "cell_type": "code",
      "source": [
        "# 7.1. Sıralı, Koşullu ve Tekrarlı Yapılar\n",
        "\n",
        "mil = float(input(\"KM'ye çevirilecek Mil bilgisini girin\"))\n",
        "kilometre = mil * 1.60934\n",
        "print(kilometre)"
      ],
      "metadata": {
        "colab": {
          "base_uri": "https://localhost:8080/"
        },
        "id": "QrHhNkeKSkLH",
        "outputId": "c5b9510c-f105-44f0-bd40-0d93c9336d8d"
      },
      "execution_count": null,
      "outputs": [
        {
          "output_type": "stream",
          "name": "stdout",
          "text": [
            "KM'ye çevirilecek Mil bilgisini girin3\n",
            "4.82802\n"
          ]
        }
      ]
    },
    {
      "cell_type": "code",
      "source": [
        "a = 10\n",
        "if a > 10: # True - False\n",
        "  a = a+1\n",
        "print(a)"
      ],
      "metadata": {
        "colab": {
          "base_uri": "https://localhost:8080/"
        },
        "id": "o0zxt60x0PvZ",
        "outputId": "28cff2df-97b6-4873-d60c-6fbd98a18dcd"
      },
      "execution_count": null,
      "outputs": [
        {
          "output_type": "stream",
          "name": "stdout",
          "text": [
            "10\n"
          ]
        }
      ]
    },
    {
      "cell_type": "code",
      "source": [
        "for degisken in range(1, 11):\n",
        "  print(degisken)"
      ],
      "metadata": {
        "colab": {
          "base_uri": "https://localhost:8080/"
        },
        "id": "N3lbV6LA07MT",
        "outputId": "bd88051d-313a-46c5-a7af-6a972fd24aae"
      },
      "execution_count": null,
      "outputs": [
        {
          "output_type": "stream",
          "name": "stdout",
          "text": [
            "1\n",
            "2\n",
            "3\n",
            "4\n",
            "5\n",
            "6\n",
            "7\n",
            "8\n",
            "9\n",
            "10\n"
          ]
        }
      ]
    },
    {
      "cell_type": "code",
      "source": [
        "print(\"Günlük çalışma saatini gir\")\n",
        "\n",
        "saat = float(input(\"Saat Bilgisi\"))\n",
        "\n",
        "ucret = float(input(\"Ucret Bilgisi\"))\n",
        "\n",
        "brutmaas = saat * ucret\n",
        "\n",
        "print(\"Gunluk Hesaplanan Brut Maaş: \", brutmaas, \" TL\")"
      ],
      "metadata": {
        "colab": {
          "base_uri": "https://localhost:8080/"
        },
        "id": "-mtXujooznjk",
        "outputId": "7af2d7cf-9ca4-4fcc-c601-a428952b57d4"
      },
      "execution_count": null,
      "outputs": [
        {
          "output_type": "stream",
          "name": "stdout",
          "text": [
            "Günlük çalışma saatini gir\n",
            "Saat Bilgisi3\n",
            "Ucret Bilgisi3\n",
            "Gunluk Hesaplanan Brut Maaş:  9.0  TL\n"
          ]
        }
      ]
    },
    {
      "cell_type": "code",
      "source": [
        "print(\"Günlük çalışma saatini gir\")\n",
        "\n",
        "saat = float(input(\"Saat Bilgisi\"))\n",
        "ucret = float(input(\"Ucret Bilgisi\"))\n",
        "\n",
        "Gun = 30\n",
        "\n",
        "aylik_maas = Gun * saat * ucret\n",
        "\n",
        "#print(\"Gunluk Hesaplanan Brut Maaş: \", brutmaas, \" TL\")\n",
        "print(\"Aylık Hesaplanan Brut Maaş: \", aylik_maas, \" TL\")"
      ],
      "metadata": {
        "colab": {
          "base_uri": "https://localhost:8080/"
        },
        "id": "HicznGlH0fUP",
        "outputId": "4f80b84e-b32e-42c4-db9f-7ba376823744"
      },
      "execution_count": null,
      "outputs": [
        {
          "output_type": "stream",
          "name": "stdout",
          "text": [
            "Günlük çalışma saatini gir\n",
            "Saat Bilgisi3\n",
            "Ucret Bilgisi3\n",
            "Aylık Hesaplanan Brut Maaş:  270.0  TL\n"
          ]
        }
      ]
    },
    {
      "cell_type": "code",
      "source": [
        "mil = float(input(\"KM'ye çevirilecek Mil bilgisini girin\"))\n",
        "kilometre = mil * 1.60934\n",
        "print(kilometre)"
      ],
      "metadata": {
        "colab": {
          "base_uri": "https://localhost:8080/"
        },
        "id": "C2bnITJ41qOt",
        "outputId": "183313d5-879b-4d93-ed51-63302da6dac8"
      },
      "execution_count": null,
      "outputs": [
        {
          "output_type": "stream",
          "name": "stdout",
          "text": [
            "KM'ye çevirilecek Mil bilgisini girin3\n",
            "4.82802\n"
          ]
        }
      ]
    },
    {
      "cell_type": "code",
      "source": [
        "sayi = int(input(\"4 Basamaklı sayı bilgisi giriniz\"))\n",
        "\n",
        "binler = sayi // 1000\n",
        "yuzler = (sayi // 100) % 10\n",
        "onlar = (sayi // 10) % 10\n",
        "birler = sayi % 10\n",
        "\n",
        "print(\"Sayının Rakamlar: \", binler, yuzler, onlar, birler)\n",
        "\n",
        "yeni_sayi = yuzler * 1000 + binler * 100 + onlar * 10 + birler\n",
        "\n",
        "print(\"Yeni Sayı: \", yeni_sayi)\n",
        "\n",
        "print(\"Girilen Sayı: \", sayi)"
      ],
      "metadata": {
        "colab": {
          "base_uri": "https://localhost:8080/"
        },
        "id": "Sqczq_Fs1_0g",
        "outputId": "e138b5d1-b0a1-402c-9187-5915ceade683"
      },
      "execution_count": null,
      "outputs": [
        {
          "output_type": "stream",
          "name": "stdout",
          "text": [
            "4 Basamaklı sayı bilgisi giriniz3\n",
            "Sayının Rakamlar:  0 0 0 3\n",
            "Yeni Sayı:  3\n",
            "Girilen Sayı:  3\n"
          ]
        }
      ]
    },
    {
      "cell_type": "code",
      "source": [
        "metin = \"Python\"\n",
        "\n",
        "print(\"Metnin uzunluğu \", len(metin))\n",
        "\n",
        "print(\"Büyük harf dönüşümü \", metin.upper())\n",
        "\n",
        "print(\"Küçük harf dönüşümü \", metin.lower())"
      ],
      "metadata": {
        "colab": {
          "base_uri": "https://localhost:8080/"
        },
        "id": "sI4EiUZpqTNM",
        "outputId": "7c6a6bb6-e533-4112-bec2-d532af096bde"
      },
      "execution_count": null,
      "outputs": [
        {
          "output_type": "stream",
          "name": "stdout",
          "text": [
            "Metnin uzunluğu  6\n",
            "Büyük harf dönüşümü  PYTHON\n",
            "Küçük harf dönüşümü  python\n"
          ]
        }
      ]
    },
    {
      "cell_type": "code",
      "source": [
        "# 7.3. Python Programlama Dili Üzerinde Koşul Yapıları\n",
        "a = 10\n",
        "if a > 0:\n",
        "  a=a+1\n",
        "print(a)"
      ],
      "metadata": {
        "colab": {
          "base_uri": "https://localhost:8080/"
        },
        "id": "Zag_iA_M4pJ_",
        "outputId": "eafc9602-4519-4331-c960-3fc6a148172c"
      },
      "execution_count": null,
      "outputs": [
        {
          "output_type": "stream",
          "name": "stdout",
          "text": [
            "11\n"
          ]
        }
      ]
    },
    {
      "cell_type": "code",
      "source": [
        "a = 4\n",
        "b = 1\n",
        "\n",
        "if a > b:\n",
        "  print(a)\n",
        "else:\n",
        "  print(b)"
      ],
      "metadata": {
        "colab": {
          "base_uri": "https://localhost:8080/"
        },
        "id": "tpE1UbJZ7Ur9",
        "outputId": "fbba9cb6-0177-42fa-e9e1-f57bccdb61bf"
      },
      "execution_count": null,
      "outputs": [
        {
          "output_type": "stream",
          "name": "stdout",
          "text": [
            "4\n"
          ]
        }
      ]
    },
    {
      "cell_type": "code",
      "source": [
        "a = 5\n",
        "b = 4\n",
        "c = 0\n",
        "\n",
        "if a>0 and b>0:\n",
        "  c = a + b\n",
        "  c = a * a + c\n",
        "print(c)"
      ],
      "metadata": {
        "colab": {
          "base_uri": "https://localhost:8080/"
        },
        "id": "v9STUWoO7p-s",
        "outputId": "a525e4dc-edcc-4aaa-b600-a2e80df3db38"
      },
      "execution_count": null,
      "outputs": [
        {
          "output_type": "stream",
          "name": "stdout",
          "text": [
            "34\n"
          ]
        }
      ]
    },
    {
      "cell_type": "code",
      "source": [
        "a = 5\n",
        "b = 4\n",
        "c = 4\n",
        "\n",
        "if a>0 and b<0:\n",
        "  c = a * b + b\n",
        "print(c)"
      ],
      "metadata": {
        "colab": {
          "base_uri": "https://localhost:8080/"
        },
        "id": "bOoYxXhg8K-g",
        "outputId": "98ee0225-8eec-4ce7-ab87-5887beda8201"
      },
      "execution_count": null,
      "outputs": [
        {
          "output_type": "stream",
          "name": "stdout",
          "text": [
            "4\n"
          ]
        }
      ]
    },
    {
      "cell_type": "code",
      "source": [
        "a = 4\n",
        "b = 1\n",
        "c = 9\n",
        "sonuc = 0\n",
        "\n",
        "if a>0:\n",
        "  sonuc += 1\n",
        "  sonuc = a * c - b\n",
        "  print(sonuc)\n",
        "else:\n",
        "  sonuc -= 1\n",
        "  sonuc = a/c + b\n",
        "  print(sonuc)"
      ],
      "metadata": {
        "colab": {
          "base_uri": "https://localhost:8080/"
        },
        "id": "2ZdNbaiy8aTf",
        "outputId": "27f623e0-9ee1-4820-fc8a-66e24fa4a68a"
      },
      "execution_count": null,
      "outputs": [
        {
          "output_type": "stream",
          "name": "stdout",
          "text": [
            "35\n"
          ]
        }
      ]
    },
    {
      "cell_type": "code",
      "source": [
        "degisken = 0\n",
        "sonuc = 0\n",
        "\n",
        "if degisken == 1:\n",
        "  sonuc += 1\n",
        "  print(sonuc)\n",
        "elif degisken == 2:\n",
        "  sonuc += 2\n",
        "  print(sonuc)\n",
        "elif degisken == 3:\n",
        "  sonuc += 3\n",
        "  print(sonuc)\n",
        "else:\n",
        "  sonuc = 0\n",
        "  print(sonuc)"
      ],
      "metadata": {
        "colab": {
          "base_uri": "https://localhost:8080/"
        },
        "id": "SGRpZbPY9IGq",
        "outputId": "3d954f9b-c0d7-4e63-94f1-ef6c7fdeb5ce"
      },
      "execution_count": null,
      "outputs": [
        {
          "output_type": "stream",
          "name": "stdout",
          "text": [
            "0\n"
          ]
        }
      ]
    },
    {
      "cell_type": "code",
      "source": [
        "# 7.4. Python Programlama Dili Üzerinde Döngü Yapıları\n",
        "\n",
        "for i in [1, 2, 3, 4, 5, 6, 7, 8, 9, 10]:\n",
        "  print(i)\n"
      ],
      "metadata": {
        "colab": {
          "base_uri": "https://localhost:8080/"
        },
        "id": "ER0pes2_YfxO",
        "outputId": "4d05220d-0483-446d-9c25-125adc7da356"
      },
      "execution_count": null,
      "outputs": [
        {
          "output_type": "stream",
          "name": "stdout",
          "text": [
            "1\n",
            "2\n",
            "3\n",
            "4\n",
            "5\n",
            "6\n",
            "7\n",
            "8\n",
            "9\n",
            "10\n"
          ]
        }
      ]
    },
    {
      "cell_type": "code",
      "source": [
        "for i in range(1, 11):\n",
        "  print(i)"
      ],
      "metadata": {
        "colab": {
          "base_uri": "https://localhost:8080/"
        },
        "id": "z1qjEr8JZWAu",
        "outputId": "ffd8bd33-2933-45fd-ac9c-a1877a6bb533"
      },
      "execution_count": null,
      "outputs": [
        {
          "output_type": "stream",
          "name": "stdout",
          "text": [
            "1\n",
            "2\n",
            "3\n",
            "4\n",
            "5\n",
            "6\n",
            "7\n",
            "8\n",
            "9\n",
            "10\n"
          ]
        }
      ]
    },
    {
      "cell_type": "code",
      "source": [
        "for i in range(1, 11, 3):\n",
        "  print(i)"
      ],
      "metadata": {
        "colab": {
          "base_uri": "https://localhost:8080/"
        },
        "id": "2zgsvBt8ZibN",
        "outputId": "2fa56507-7df8-4345-81fe-994c3c12a2e9"
      },
      "execution_count": null,
      "outputs": [
        {
          "output_type": "stream",
          "name": "stdout",
          "text": [
            "1\n",
            "4\n",
            "7\n",
            "10\n"
          ]
        }
      ]
    },
    {
      "cell_type": "code",
      "source": [
        "for i in range(3, 11, 3):\n",
        "  print(i)"
      ],
      "metadata": {
        "colab": {
          "base_uri": "https://localhost:8080/"
        },
        "id": "qf7dTiPPZtIB",
        "outputId": "a2eca184-2880-4938-af06-b6cd8e676120"
      },
      "execution_count": null,
      "outputs": [
        {
          "output_type": "stream",
          "name": "stdout",
          "text": [
            "3\n",
            "6\n",
            "9\n"
          ]
        }
      ]
    },
    {
      "cell_type": "code",
      "source": [
        "for sayi in range(1, 11):\n",
        "  if sayi == 3:\n",
        "    continue\n",
        "  if sayi == 7:\n",
        "    break\n",
        "  print(sayi)"
      ],
      "metadata": {
        "colab": {
          "base_uri": "https://localhost:8080/"
        },
        "id": "Ybylq0GZZ7xq",
        "outputId": "eb0534f5-18dc-4ca8-913c-72cba3665725"
      },
      "execution_count": null,
      "outputs": [
        {
          "output_type": "stream",
          "name": "stdout",
          "text": [
            "1\n",
            "2\n",
            "4\n",
            "5\n",
            "6\n"
          ]
        }
      ]
    },
    {
      "cell_type": "code",
      "source": [
        "sayi = 0\n",
        "toplam = 0\n",
        "\n",
        "while sayi < 99:\n",
        "  print(sayi)\n",
        "  toplam += sayi # toplam = toplam + sayi\n",
        "  sayi += 1  # sayi = sayi + 1\n",
        "print(\"Sayilarin Toplami: \", toplam)"
      ],
      "metadata": {
        "colab": {
          "base_uri": "https://localhost:8080/"
        },
        "id": "ZbZxi0RQaLi-",
        "outputId": "29647fcc-22ae-48a7-a318-d51a00547418"
      },
      "execution_count": null,
      "outputs": [
        {
          "output_type": "stream",
          "name": "stdout",
          "text": [
            "0\n",
            "1\n",
            "2\n",
            "3\n",
            "4\n",
            "5\n",
            "6\n",
            "7\n",
            "8\n",
            "9\n",
            "10\n",
            "11\n",
            "12\n",
            "13\n",
            "14\n",
            "15\n",
            "16\n",
            "17\n",
            "18\n",
            "19\n",
            "20\n",
            "21\n",
            "22\n",
            "23\n",
            "24\n",
            "25\n",
            "26\n",
            "27\n",
            "28\n",
            "29\n",
            "30\n",
            "31\n",
            "32\n",
            "33\n",
            "34\n",
            "35\n",
            "36\n",
            "37\n",
            "38\n",
            "39\n",
            "40\n",
            "41\n",
            "42\n",
            "43\n",
            "44\n",
            "45\n",
            "46\n",
            "47\n",
            "48\n",
            "49\n",
            "50\n",
            "51\n",
            "52\n",
            "53\n",
            "54\n",
            "55\n",
            "56\n",
            "57\n",
            "58\n",
            "59\n",
            "60\n",
            "61\n",
            "62\n",
            "63\n",
            "64\n",
            "65\n",
            "66\n",
            "67\n",
            "68\n",
            "69\n",
            "70\n",
            "71\n",
            "72\n",
            "73\n",
            "74\n",
            "75\n",
            "76\n",
            "77\n",
            "78\n",
            "79\n",
            "80\n",
            "81\n",
            "82\n",
            "83\n",
            "84\n",
            "85\n",
            "86\n",
            "87\n",
            "88\n",
            "89\n",
            "90\n",
            "91\n",
            "92\n",
            "93\n",
            "94\n",
            "95\n",
            "96\n",
            "97\n",
            "98\n",
            "Sayilarin Toplami:  4851\n"
          ]
        }
      ]
    },
    {
      "cell_type": "code",
      "source": [
        "for ch in range(ord('A'), ord('Z')+1):\n",
        "  print(\"Harf Listesi: \", chr(ch))"
      ],
      "metadata": {
        "colab": {
          "base_uri": "https://localhost:8080/"
        },
        "id": "My_YLV8vbCvp",
        "outputId": "a975d1d6-26aa-42ca-f6b1-11160e5f903a"
      },
      "execution_count": null,
      "outputs": [
        {
          "output_type": "stream",
          "name": "stdout",
          "text": [
            "Harf Listesi:  A\n",
            "Harf Listesi:  B\n",
            "Harf Listesi:  C\n",
            "Harf Listesi:  D\n",
            "Harf Listesi:  E\n",
            "Harf Listesi:  F\n",
            "Harf Listesi:  G\n",
            "Harf Listesi:  H\n",
            "Harf Listesi:  I\n",
            "Harf Listesi:  J\n",
            "Harf Listesi:  K\n",
            "Harf Listesi:  L\n",
            "Harf Listesi:  M\n",
            "Harf Listesi:  N\n",
            "Harf Listesi:  O\n",
            "Harf Listesi:  P\n",
            "Harf Listesi:  Q\n",
            "Harf Listesi:  R\n",
            "Harf Listesi:  S\n",
            "Harf Listesi:  T\n",
            "Harf Listesi:  U\n",
            "Harf Listesi:  V\n",
            "Harf Listesi:  W\n",
            "Harf Listesi:  X\n",
            "Harf Listesi:  Y\n",
            "Harf Listesi:  Z\n"
          ]
        }
      ]
    },
    {
      "cell_type": "code",
      "source": [
        "while True:\n",
        "  sayi = float(input(\"Sayıyı Gir\"))\n",
        "  if sayi == 0:\n",
        "    print(\"0 Girdiniz, Başka bir rakam giriniz!!!\")\n",
        "    continue\n",
        "  elif sayi>0:\n",
        "    print(\"Sayı Pozitif\")\n",
        "  else:\n",
        "    print(\"Sayı Negatif\")\n",
        "  break"
      ],
      "metadata": {
        "colab": {
          "base_uri": "https://localhost:8080/"
        },
        "id": "oq7INLVwbi8B",
        "outputId": "21f62381-73db-4cf8-c641-cc256c166564"
      },
      "execution_count": null,
      "outputs": [
        {
          "output_type": "stream",
          "name": "stdout",
          "text": [
            "Sayıyı Gir0\n",
            "0 Girdiniz, Başka bir rakam giriniz!!!\n",
            "Sayıyı Gir0\n",
            "0 Girdiniz, Başka bir rakam giriniz!!!\n",
            "Sayıyı Gir0\n",
            "0 Girdiniz, Başka bir rakam giriniz!!!\n",
            "Sayıyı Gir100\n",
            "Sayı Pozitif\n"
          ]
        }
      ]
    },
    {
      "cell_type": "code",
      "source": [
        "n = int(input(\"Sayı Gir\"))\n",
        "\n",
        "toplam = 0\n",
        "\n",
        "for sayac in range(1, n+1):\n",
        "  toplam += sayac\n",
        "\n",
        "print(\"Sonuc: \", toplam)"
      ],
      "metadata": {
        "colab": {
          "base_uri": "https://localhost:8080/"
        },
        "id": "14DpY0W9cmqB",
        "outputId": "bee82850-393c-4db4-d437-9a9d536d7e0e"
      },
      "execution_count": null,
      "outputs": [
        {
          "output_type": "stream",
          "name": "stdout",
          "text": [
            "Sayı Gir5\n",
            "Sonuc:  15\n"
          ]
        }
      ]
    },
    {
      "cell_type": "code",
      "source": [
        "x = 3\n",
        "c = 0\n",
        "\n",
        "while c<3:\n",
        "  print(\"Ekran Cıktısı: \", c, x)\n",
        "  x = x * x\n",
        "  c = c + 1\n",
        "\n",
        "print(\"Döngü Sonu: \", c, x)"
      ],
      "metadata": {
        "colab": {
          "base_uri": "https://localhost:8080/"
        },
        "id": "Q4R06-tKdYSs",
        "outputId": "39dfec27-edfd-4c02-f1dd-000c83e64c79"
      },
      "execution_count": null,
      "outputs": [
        {
          "output_type": "stream",
          "name": "stdout",
          "text": [
            "Ekran Cıktısı:  0 3\n",
            "Ekran Cıktısı:  1 9\n",
            "Ekran Cıktısı:  2 81\n",
            "Döngü Sonu:  3 6561\n"
          ]
        }
      ]
    },
    {
      "cell_type": "code",
      "source": [
        "# 7.5. Python Programlama Dili Üzerinde Sıralı, Koşul & Döngü Örnekleri\n",
        "\n",
        "n = int(input(\"Sayi Gir\"))\n",
        "\n",
        "if n % 2 == 0:\n",
        "  print(\"Girilen Sayı: \", n, \" çifttir\")\n",
        "else:\n",
        "  print(\"Girilen Sayı: \", n, \" tektir\")"
      ],
      "metadata": {
        "colab": {
          "base_uri": "https://localhost:8080/"
        },
        "id": "TcRkvE0VnrpQ",
        "outputId": "ba2b7b96-f808-40a4-ef28-e8321bbc034b"
      },
      "execution_count": null,
      "outputs": [
        {
          "output_type": "stream",
          "name": "stdout",
          "text": [
            "Sayi Gir2\n",
            "Girilen Sayı:  2  çifttir\n"
          ]
        }
      ]
    },
    {
      "cell_type": "code",
      "source": [
        "n = float(input(\"Sayı Gir\"))\n",
        "\n",
        "if n < 0:\n",
        "  print(\"Girilen Sayı Negatif ve mutlak degeri\", n * (-1), \" 'dır.\")\n",
        "else:\n",
        "  print(\"Girilen Sayı \", n, \" pozitiftir\")"
      ],
      "metadata": {
        "colab": {
          "base_uri": "https://localhost:8080/"
        },
        "id": "9JdSmy6RoYqA",
        "outputId": "14719204-3f44-479a-a26c-b7026fca9cb0"
      },
      "execution_count": null,
      "outputs": [
        {
          "output_type": "stream",
          "name": "stdout",
          "text": [
            "Sayı Gir-9\n",
            "Girilen Sayı Negatif ve mutlak degeri 9.0  'dır.\n"
          ]
        }
      ]
    },
    {
      "cell_type": "code",
      "source": [
        "x = int(input(\"İlk sayıyı gir\"))\n",
        "y = int(input(\"ikinci sayıyı gir\"))\n",
        "\n",
        "if x % y == 0:\n",
        "  print(\"X sayısı Y Sayısına Tam Bölünür\")\n",
        "else:\n",
        "  print(\"X sayısı Y Sayısına Tam Bölünmez\")"
      ],
      "metadata": {
        "colab": {
          "base_uri": "https://localhost:8080/"
        },
        "id": "s-spZ3zapPDd",
        "outputId": "3c35df05-a961-47c6-cc26-42c2d0ff5d08"
      },
      "execution_count": null,
      "outputs": [
        {
          "output_type": "stream",
          "name": "stdout",
          "text": [
            "İlk sayıyı gir8\n",
            "ikinci sayıyı gir3\n",
            "X sayısı Y Sayısına Tam Bölünmez\n"
          ]
        }
      ]
    },
    {
      "cell_type": "code",
      "source": [
        "yil = int(input(\"Yıl Gir\"))\n",
        "if yil % 4 == 0:\n",
        "  print(\"Girilen Yıl: \", yil, \" artık yıldır\")\n",
        "else:\n",
        "  print(\"Girilen Yıl: \", yil, \" artık yıl değildir\")"
      ],
      "metadata": {
        "colab": {
          "base_uri": "https://localhost:8080/"
        },
        "id": "tlSGZdQ4pwa4",
        "outputId": "6fedb76c-5677-4da7-9122-d61d72ff5a6f"
      },
      "execution_count": null,
      "outputs": [
        {
          "output_type": "stream",
          "name": "stdout",
          "text": [
            "Yıl Gir2024\n",
            "Girilen Yıl:  2024  artık yıldır\n"
          ]
        }
      ]
    },
    {
      "cell_type": "code",
      "source": [
        "sayi = 1\n",
        "\n",
        "while sayi<=100:\n",
        "  karekok = int(sayi ** 0.5)\n",
        "  if karekok ** 2 == sayi:\n",
        "    print(sayi)\n",
        "  sayi += 1 # sayi = sayi + 1"
      ],
      "metadata": {
        "colab": {
          "base_uri": "https://localhost:8080/"
        },
        "id": "DKSnAot-qJuQ",
        "outputId": "7a180f8d-d33d-41b0-9343-956534bbdb53"
      },
      "execution_count": null,
      "outputs": [
        {
          "output_type": "stream",
          "name": "stdout",
          "text": [
            "1\n",
            "4\n",
            "9\n",
            "16\n",
            "25\n",
            "36\n",
            "49\n",
            "64\n",
            "81\n",
            "100\n"
          ]
        }
      ]
    },
    {
      "cell_type": "code",
      "source": [
        "sayac = 4\n",
        "degisken = 0\n",
        "\n",
        "while sayac * sayac <= 100:\n",
        "  tam_kare = sayac * sayac\n",
        "  if 10 <= tam_kare <= 100:\n",
        "    print(tam_kare)\n",
        "    degisken += 1\n",
        "  sayac += 1\n",
        "\n",
        "print(\"Sayı Adedi: \", degisken)"
      ],
      "metadata": {
        "colab": {
          "base_uri": "https://localhost:8080/"
        },
        "id": "98aNnz9DrGSA",
        "outputId": "0c8b9c3a-571f-46ec-b9d7-de68f70c08db"
      },
      "execution_count": null,
      "outputs": [
        {
          "output_type": "stream",
          "name": "stdout",
          "text": [
            "16\n",
            "25\n",
            "36\n",
            "49\n",
            "64\n",
            "81\n",
            "100\n",
            "Sayı Adedi:  7\n"
          ]
        }
      ]
    },
    {
      "cell_type": "code",
      "source": [
        "degisken = 0\n",
        "\n",
        "for sayac in range(1, 11):\n",
        "  tam_kare = sayac * sayac\n",
        "  if 10 <= tam_kare <= 100:\n",
        "    print(tam_kare)\n",
        "    degisken += 1\n",
        "\n",
        "print(\"Sayı Adedi: \", degisken)"
      ],
      "metadata": {
        "colab": {
          "base_uri": "https://localhost:8080/"
        },
        "id": "mak1l89ts7D9",
        "outputId": "344bd073-e34c-4ef4-b27e-b4f2e4baf434"
      },
      "execution_count": null,
      "outputs": [
        {
          "output_type": "stream",
          "name": "stdout",
          "text": [
            "16\n",
            "25\n",
            "36\n",
            "49\n",
            "64\n",
            "81\n",
            "100\n",
            "Sayı Adedi:  7\n"
          ]
        }
      ]
    },
    {
      "cell_type": "code",
      "source": [
        "print(\"Programdan çıkmak için '0' girebilirsiniz.\")\n",
        "\n",
        "toplam = 0  # Girilen sayıların toplamı\n",
        "s = 0       # Girilen sayı adedi\n",
        "\n",
        "while True:\n",
        "    sayi = int(input(\"Bir sayı girin: \"))\n",
        "\n",
        "    if sayi == 0:  # Kullanıcı 0 girerse döngü sonlanacak\n",
        "        break\n",
        "\n",
        "    toplam += sayi\n",
        "    s += 1\n",
        "\n",
        "if s == 0:\n",
        "    print(\"Hiç sayı girişi yapmadınız!\")\n",
        "else:\n",
        "    ortalama = toplam / s  # Ortalama hesaplama\n",
        "    print(s, \" adet sayı girildi.\")\n",
        "    print(\"Toplam: \", toplam)\n",
        "    print(\"Ortalama: \", ortalama)"
      ],
      "metadata": {
        "colab": {
          "base_uri": "https://localhost:8080/"
        },
        "id": "fr6rC3WUyFrw",
        "outputId": "0b495be0-3eac-47a5-cc5d-7b45b2792e5e"
      },
      "execution_count": null,
      "outputs": [
        {
          "output_type": "stream",
          "name": "stdout",
          "text": [
            "Programdan çıkmak için '0' girebilirsiniz.\n",
            "Bir sayı girin: 70\n",
            "Bir sayı girin: 1\n",
            "Bir sayı girin: 29\n",
            "Bir sayı girin: 0\n",
            "3  adet sayı girildi.\n",
            "Toplam:  100\n",
            "Ortalama:  33.333333333333336\n"
          ]
        }
      ]
    }
  ]
}