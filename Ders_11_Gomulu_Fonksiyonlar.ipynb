{
  "nbformat": 4,
  "nbformat_minor": 0,
  "metadata": {
    "colab": {
      "provenance": []
    },
    "kernelspec": {
      "name": "python3",
      "display_name": "Python 3"
    },
    "language_info": {
      "name": "python"
    }
  },
  "cells": [
    {
      "cell_type": "markdown",
      "source": [
        "# Python + Google Colab: Algoritmalar ve Veri Yapıları Eğitimi (Sıfırdan İleriye)    \n",
        "\n",
        "Ders 11: Python Programlama Dili Üzerinde Gömülü Fonksiyonlar\n",
        "\n",
        "Github Kaynagı:       \n",
        "https://github.com/acetinkaya/Python-Google-Colab-Algoritmalar-ve-Veri-Yapilari-Egitimi --> D11\n",
        "\n",
        "Öğr. Gör. Ali ÇETİNKAYA - 2025"
      ],
      "metadata": {
        "id": "0ay-Cjl8h8zX"
      }
    },
    {
      "cell_type": "code",
      "execution_count": 1,
      "metadata": {
        "colab": {
          "base_uri": "https://localhost:8080/"
        },
        "id": "ysRIoo1kh3te",
        "outputId": "6293c318-f1a6-4da5-f97c-6c311062b7b8"
      },
      "outputs": [
        {
          "output_type": "stream",
          "name": "stdout",
          "text": [
            "Merhaba, Python Veri Yapıları ve Algoritmalar / Ders 11\n"
          ]
        }
      ],
      "source": [
        "print(\"Merhaba, Python Veri Yapıları ve Algoritmalar / Ders 11\")"
      ]
    },
    {
      "cell_type": "code",
      "source": [
        "import sys  # import python programlama dilinde yazılıma kütüphane eklemeye yarayan bir kod blogudur.\n",
        "print(sys.version)"
      ],
      "metadata": {
        "colab": {
          "base_uri": "https://localhost:8080/"
        },
        "id": "XosNEqDi67Uz",
        "outputId": "93d453a5-abe0-43cd-df7a-4e47230e116b"
      },
      "execution_count": 2,
      "outputs": [
        {
          "output_type": "stream",
          "name": "stdout",
          "text": [
            "3.11.11 (main, Dec  4 2024, 08:55:07) [GCC 11.4.0]\n"
          ]
        }
      ]
    },
    {
      "cell_type": "code",
      "source": [
        "from google.colab import drive # google colab - drive bağlantısı\n",
        "\n",
        "drive.mount('/content/drive')"
      ],
      "metadata": {
        "colab": {
          "base_uri": "https://localhost:8080/"
        },
        "id": "3RK_pb147Ahg",
        "outputId": "cbaafc13-a960-4b1f-ecae-e21e92983072"
      },
      "execution_count": 3,
      "outputs": [
        {
          "output_type": "stream",
          "name": "stdout",
          "text": [
            "Mounted at /content/drive\n"
          ]
        }
      ]
    },
    {
      "cell_type": "code",
      "source": [
        "import os\n",
        "\n",
        "os.chdir('/content/drive/My Drive/VERIYAPILARI_PYTHON')\n",
        "\n",
        "!pwd # bize kodun çıktısını dosya yolu olarak veren kod blogudur."
      ],
      "metadata": {
        "colab": {
          "base_uri": "https://localhost:8080/"
        },
        "id": "PVUKOmiV7SNV",
        "outputId": "426511b2-dd09-42ba-f004-06056effe859"
      },
      "execution_count": 4,
      "outputs": [
        {
          "output_type": "stream",
          "name": "stdout",
          "text": [
            "/content/drive/My Drive/VERIYAPILARI_PYTHON\n"
          ]
        }
      ]
    },
    {
      "cell_type": "markdown",
      "source": [
        "Python programlama dili üzerinde hali hazırda var olan aşağıdaki fonksiyonlar, veri işleme, matematiksel işlemler, veri türü dönüşümleri gibi birden fazla farklı uygulama alanında kullanılabilir.\n",
        "\n",
        "# Python Hazır Fonksiyonlar Listesi\n",
        "\n",
        "| Fonksiyon | Görevi |\n",
        "|-----------|------------------------------|\n",
        "| abs(x) | Sayının mutlak değerini döndürür. |\n",
        "| round(x) | Sayıyı en yakın tam sayıya yuvarlar. |\n",
        "| max(degisken, *args) | En büyük değeri döndürür. |\n",
        "| min(degisken, *args) | En küçük değeri döndürür. |\n",
        "| pow(x, y) | x’in y. kuvvetini hesaplar. |\n",
        "| int(x) | Verilen değeri tam sayıya çevirir. |\n",
        "| float(x) | Verilen değeri ondalıklı sayıya çevirir. |\n",
        "| str(x) | Verilen değeri string’e çevirir. |\n",
        "| list(degisken) | Verilen degiskeni list veri türüne çevirir. |\n",
        "| tuple(degisken) | Verilen degiskeni tuple veri türüne çevirir. |\n",
        "| set(degisken) | Verilen degisken nesneyi kümeye çevirir. |\n",
        "| sum(degisken) | Listedeki elemanların toplamını hesaplar. |\n",
        "| len(degisken) | Listedeki eleman sayısını döndürür. |\n",
        "| sorted(degisken, reverse=False) | Listeyi sıralar. |\n",
        "| upper() | String’i büyük harfe çevirir. |\n",
        "| lower() | String’i küçük harfe çevirir. |\n",
        "| title() | String’deki kelimelerin ilk harfini büyük yapar. |\n",
        "| split() | String’i belirli bir ayırıcıya göre böler. |\n",
        "| input(degisken) | Kullanıcıdan girdi alır. |\n",
        "| all(degisken) | Listedeki tüm elemanlar ‘True’ ise ‘True’ döndürür. |\n",
        "| any(degisken) | Listedeki en az bir eleman ‘True’ ise ‘True’ döndürür. |\n",
        "| enumerate(degisken) | degisken nesneye index numarası ekleyerek döner. |\n",
        "| zip(*degisken) | Verilen degiskenleri birleştirerek tuple listesi döndürür. |\n"
      ],
      "metadata": {
        "id": "PynK7zdhIv8d"
      }
    },
    {
      "cell_type": "code",
      "source": [
        "def matematiksel_fonksiyonlar():\n",
        "  print(\"Mutlak Değer İslemi: \", abs(-10))\n",
        "  print(\"Yuvarlama ismlemi: \", round(4.7))\n",
        "  print(\"Maksimum Değer: \", max(5, 10, 15))\n",
        "  print(\"Minimum Değer: \", min(5, 10, 15))\n",
        "  print(\"Üs Alma İşlemi: \", pow(2, 3))"
      ],
      "metadata": {
        "id": "BGRRc6QYZUEp"
      },
      "execution_count": 5,
      "outputs": []
    },
    {
      "cell_type": "code",
      "source": [
        "matematiksel_fonksiyonlar()"
      ],
      "metadata": {
        "colab": {
          "base_uri": "https://localhost:8080/"
        },
        "id": "6yyqEieQZUHN",
        "outputId": "bf2ce75c-b955-4239-9832-a53d17b8d25c"
      },
      "execution_count": 6,
      "outputs": [
        {
          "output_type": "stream",
          "name": "stdout",
          "text": [
            "Mutlak Değer İslemi:  10\n",
            "Yuvarlama ismlemi:  5\n",
            "Maksimum Değer:  15\n",
            "Minimum Değer:  5\n",
            "Üs Alma İşlemi:  8\n"
          ]
        }
      ]
    },
    {
      "cell_type": "code",
      "source": [
        "def veri_turu_donusumleri():\n",
        "  print(\"Int veri dönüşümü: \", int(3.14))\n",
        "  print(\"Float veri dönüşümü: \", float(10))\n",
        "  print(\"String veri dönüşümü: \", str(123))\n",
        "  print(\"List veri dönüşümü: \", list(\"Python\"))\n",
        "  print(\"Tuple veri dönüşümü: \", tuple([\"P\", \"y\", \"t\", \"h\", \"o\", \"n\", \"3\"]))\n",
        "  print(\"Küme veri dönüşümü: \", set([1,2,3,4]))"
      ],
      "metadata": {
        "id": "ZSgR4jECZUJ0"
      },
      "execution_count": 7,
      "outputs": []
    },
    {
      "cell_type": "code",
      "source": [
        "veri_turu_donusumleri()"
      ],
      "metadata": {
        "colab": {
          "base_uri": "https://localhost:8080/"
        },
        "id": "bnbINQNwdMak",
        "outputId": "c00331a2-cbcd-473d-f88f-d5b25740c53c"
      },
      "execution_count": 8,
      "outputs": [
        {
          "output_type": "stream",
          "name": "stdout",
          "text": [
            "Int veri dönüşümü:  3\n",
            "Float veri dönüşümü:  10.0\n",
            "String veri dönüşümü:  123\n",
            "List veri dönüşümü:  ['P', 'y', 't', 'h', 'o', 'n']\n",
            "Tuple veri dönüşümü:  ('P', 'y', 't', 'h', 'o', 'n', '3')\n",
            "Küme veri dönüşümü:  {1, 2, 3, 4}\n"
          ]
        }
      ]
    },
    {
      "cell_type": "code",
      "source": [
        "def list_veri_ornegi():\n",
        "  liste = [40, 20, 30, 50, 10]\n",
        "  print(\"Listenin Toplam Degeri: \", sum(liste))\n",
        "  print(\"Liste eleman sayısı: \", len(liste))\n",
        "  print(\"Sıralı liste: \", sorted(liste))"
      ],
      "metadata": {
        "id": "Ml362cwzddNY"
      },
      "execution_count": 9,
      "outputs": []
    },
    {
      "cell_type": "code",
      "source": [
        "list_veri_ornegi()"
      ],
      "metadata": {
        "colab": {
          "base_uri": "https://localhost:8080/"
        },
        "id": "tgFJBfMBeBIq",
        "outputId": "d3c50bfc-96e1-4a4e-b1de-81e414e9b8fd"
      },
      "execution_count": 10,
      "outputs": [
        {
          "output_type": "stream",
          "name": "stdout",
          "text": [
            "Listenin Toplam Degeri:  150\n",
            "Liste eleman sayısı:  5\n",
            "Sıralı liste:  [10, 20, 30, 40, 50]\n"
          ]
        }
      ]
    },
    {
      "cell_type": "code",
      "source": [
        "def string_metin_fonksiyonları():\n",
        "  metin_degeri = \"Python algoritma dersi\"\n",
        "  print(\"Büyük Harf Çevrimi: \", metin_degeri.upper())\n",
        "  print(\"Küçük Harf Çevrimi\", metin_degeri.lower())\n",
        "  print(\"İlk Harfler Büyük: \", metin_degeri.title())\n",
        "  print(\"Metin Bölme: \", metin_degeri.split())"
      ],
      "metadata": {
        "id": "NqUHJQG8eRJR"
      },
      "execution_count": 11,
      "outputs": []
    },
    {
      "cell_type": "code",
      "source": [
        "string_metin_fonksiyonları()"
      ],
      "metadata": {
        "id": "4aNGnJLtfAYm",
        "outputId": "edf420f3-0949-436c-9371-2e333bfc8fae",
        "colab": {
          "base_uri": "https://localhost:8080/"
        }
      },
      "execution_count": 12,
      "outputs": [
        {
          "output_type": "stream",
          "name": "stdout",
          "text": [
            "Büyük Harf Çevrimi:  PYTHON ALGORITMA DERSI\n",
            "Küçük Harf Çevrimi python algoritma dersi\n",
            "İlk Harfler Büyük:  Python Algoritma Dersi\n",
            "Metin Bölme:  ['Python', 'algoritma', 'dersi']\n"
          ]
        }
      ]
    },
    {
      "cell_type": "code",
      "source": [
        "gelen_veri = int(input(\"Lütfen Metin giriniz!!\"))\n",
        "print(gelen_veri)"
      ],
      "metadata": {
        "colab": {
          "base_uri": "https://localhost:8080/"
        },
        "id": "CgD7w1wbdy3A",
        "outputId": "5eb2d172-7a93-469e-8ebf-bc90a785dc7a"
      },
      "execution_count": 15,
      "outputs": [
        {
          "output_type": "stream",
          "name": "stdout",
          "text": [
            "Lütfen Metin giriniz!!213\n",
            "213\n"
          ]
        }
      ]
    },
    {
      "cell_type": "code",
      "source": [
        "def eleman_kontrol():\n",
        "  liste = [True, False, True, False]\n",
        "  print(\"Tüm elemanlar True mu?: \", all(liste))\n",
        "  print(\"En az bir eleman True mu?: \", any(liste))"
      ],
      "metadata": {
        "id": "5Wsku4sheTN5"
      },
      "execution_count": 18,
      "outputs": []
    },
    {
      "cell_type": "code",
      "source": [
        "eleman_kontrol()"
      ],
      "metadata": {
        "colab": {
          "base_uri": "https://localhost:8080/"
        },
        "id": "d_vPaSIZezuM",
        "outputId": "a77a18fa-c43c-448f-e571-5d99c02add19"
      },
      "execution_count": 19,
      "outputs": [
        {
          "output_type": "stream",
          "name": "stdout",
          "text": [
            "Tüm elemanlar True mu?:  False\n",
            "En az bir eleman True mu?:  True\n"
          ]
        }
      ]
    },
    {
      "cell_type": "code",
      "source": [
        "def list_indeks_sayisi():\n",
        "  meyveler = ['Elma', 'Armut', 'Muz', 'Kiraz']\n",
        "  for index, meyve in enumerate(meyveler):\n",
        "    print(index, meyve) #0 Elma, 1 Armut, 2 Muz, 3 Kiraz"
      ],
      "metadata": {
        "id": "jkGg2Y7ofDCc"
      },
      "execution_count": 20,
      "outputs": []
    },
    {
      "cell_type": "code",
      "source": [
        "list_indeks_sayisi()"
      ],
      "metadata": {
        "colab": {
          "base_uri": "https://localhost:8080/"
        },
        "id": "ESjLPre1frKH",
        "outputId": "0e25bfd7-7465-4b66-f471-49acc10881e5"
      },
      "execution_count": 21,
      "outputs": [
        {
          "output_type": "stream",
          "name": "stdout",
          "text": [
            "0 Elma\n",
            "1 Armut\n",
            "2 Muz\n",
            "3 Kiraz\n"
          ]
        }
      ]
    },
    {
      "cell_type": "code",
      "source": [
        "sayilar = [1, 2, 3]\n",
        "renkler = ['Kırmızı', 'Mavi', 'Yeşil']\n",
        "print(\"Birleştirilmiş Liste Örneği: \", list(zip(sayilar, renkler)))"
      ],
      "metadata": {
        "colab": {
          "base_uri": "https://localhost:8080/"
        },
        "id": "Upn1ftsmf43k",
        "outputId": "f822c679-cb49-4018-dd00-f05fefdf8288"
      },
      "execution_count": 22,
      "outputs": [
        {
          "output_type": "stream",
          "name": "stdout",
          "text": [
            "Birleştirilmiş Liste Örneği:  [(1, 'Kırmızı'), (2, 'Mavi'), (3, 'Yeşil')]\n"
          ]
        }
      ]
    },
    {
      "cell_type": "code",
      "source": [
        "matematiksel_fonksiyonlar()\n",
        "veri_turu_donusumleri()\n",
        "list_veri_ornegi()\n",
        "string_metin_fonksiyonları()\n",
        "eleman_kontrol()\n",
        "list_indeks_sayisi()"
      ],
      "metadata": {
        "colab": {
          "base_uri": "https://localhost:8080/"
        },
        "id": "6IkhHqYrgVfQ",
        "outputId": "55b84691-6f63-48da-c9c8-307d01744872"
      },
      "execution_count": 24,
      "outputs": [
        {
          "output_type": "stream",
          "name": "stdout",
          "text": [
            "Mutlak Değer İslemi:  10\n",
            "Yuvarlama ismlemi:  5\n",
            "Maksimum Değer:  15\n",
            "Minimum Değer:  5\n",
            "Üs Alma İşlemi:  8\n",
            "Int veri dönüşümü:  3\n",
            "Float veri dönüşümü:  10.0\n",
            "String veri dönüşümü:  123\n",
            "List veri dönüşümü:  ['P', 'y', 't', 'h', 'o', 'n']\n",
            "Tuple veri dönüşümü:  ('P', 'y', 't', 'h', 'o', 'n', '3')\n",
            "Küme veri dönüşümü:  {1, 2, 3, 4}\n",
            "Listenin Toplam Degeri:  150\n",
            "Liste eleman sayısı:  5\n",
            "Sıralı liste:  [10, 20, 30, 40, 50]\n",
            "Büyük Harf Çevrimi:  PYTHON ALGORITMA DERSI\n",
            "Küçük Harf Çevrimi python algoritma dersi\n",
            "İlk Harfler Büyük:  Python Algoritma Dersi\n",
            "Metin Bölme:  ['Python', 'algoritma', 'dersi']\n",
            "Tüm elemanlar True mu?:  False\n",
            "En az bir eleman True mu?:  True\n",
            "0 Elma\n",
            "1 Armut\n",
            "2 Muz\n",
            "3 Kiraz\n"
          ]
        }
      ]
    }
  ]
}