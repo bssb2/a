{
  "nbformat": 4,
  "nbformat_minor": 0,
  "metadata": {
    "colab": {
      "provenance": []
    },
    "kernelspec": {
      "name": "python3",
      "display_name": "Python 3"
    },
    "language_info": {
      "name": "python"
    }
  },
  "cells": [
    {
      "cell_type": "markdown",
      "source": [
        "Python + Google Colab: Algoritmalar ve Veri Yapıları Eğitimi (Sıfırdan İleriye)    \n",
        "Ders 9. Python Programlama Dili Üzerinde Dizi, Liste, Demet, Sözlük Yapılarının Kullanımı ve Örnekleri\n",
        "\n",
        "Github Kaynagı:       \n",
        "https://github.com/acetinkaya/Python-Google-Colab-Algoritmalar-ve-Veri-Yapilari-Egitimi --> D9\n",
        "\n",
        "Öğr. Gör. Ali ÇETİNKAYA - 2025"
      ],
      "metadata": {
        "id": "0ay-Cjl8h8zX"
      }
    },
    {
      "cell_type": "code",
      "execution_count": null,
      "metadata": {
        "colab": {
          "base_uri": "https://localhost:8080/"
        },
        "id": "ysRIoo1kh3te",
        "outputId": "9d2f5be5-41c4-4010-c9be-d63342322c6e"
      },
      "outputs": [
        {
          "output_type": "stream",
          "name": "stdout",
          "text": [
            "Merhaba, Python Veri Yapıları ve Algoritmalar / Ders 9\n"
          ]
        }
      ],
      "source": [
        "print(\"Merhaba, Python Veri Yapıları ve Algoritmalar / Ders 9\")"
      ]
    },
    {
      "cell_type": "code",
      "source": [
        "import sys  # import python programlama dilinde yazılıma kütüphane eklemeye yarayan bir kod blogudur.\n",
        "print(sys.version)"
      ],
      "metadata": {
        "colab": {
          "base_uri": "https://localhost:8080/"
        },
        "id": "XosNEqDi67Uz",
        "outputId": "f5c898e8-a419-434e-e397-a76fad7ba924"
      },
      "execution_count": 4,
      "outputs": [
        {
          "output_type": "stream",
          "name": "stdout",
          "text": [
            "3.11.11 (main, Dec  4 2024, 08:55:07) [GCC 11.4.0]\n"
          ]
        }
      ]
    },
    {
      "cell_type": "code",
      "source": [
        "from google.colab import drive # google colab - drive bağlantısı\n",
        "\n",
        "drive.mount('/content/drive')"
      ],
      "metadata": {
        "colab": {
          "base_uri": "https://localhost:8080/"
        },
        "id": "3RK_pb147Ahg",
        "outputId": "3c359167-33fd-4b1a-a475-b238942f8862"
      },
      "execution_count": null,
      "outputs": [
        {
          "output_type": "stream",
          "name": "stdout",
          "text": [
            "Mounted at /content/drive\n"
          ]
        }
      ]
    },
    {
      "cell_type": "code",
      "source": [
        "import os\n",
        "\n",
        "os.chdir('/content/drive/My Drive/VERIYAPILARI_PYTHON')\n",
        "\n",
        "!pwd # bize kodun çıktısını dosya yolu olarak veren kod blogudur."
      ],
      "metadata": {
        "colab": {
          "base_uri": "https://localhost:8080/"
        },
        "id": "PVUKOmiV7SNV",
        "outputId": "eeb219bf-35a7-463f-e983-99cba57c18f2"
      },
      "execution_count": null,
      "outputs": [
        {
          "output_type": "stream",
          "name": "stdout",
          "text": [
            "/content/drive/My Drive/VERIYAPILARI_PYTHON\n"
          ]
        }
      ]
    },
    {
      "cell_type": "markdown",
      "source": [
        "# Ders 9. Python Programlama Dili Üzerinde Dizi, Liste, Demet, Sözlük Yapılarının Kullanımı ve Örnekleri\n",
        "\n",
        "Ders 9 Giriş:\n",
        "\n",
        "Veri yapıları \"Python\" programlama dili üzerinde kullanırken şunu bu üniteye gelene kadar kavramamız gerekmektedir. Veri yapıları verileri düzenlemek ve yönetmek için kullanılmaktadır.\n",
        "\n",
        "\n",
        "9.1. Python Programlama Dili Üzerinde Liste - Dizi Yapısı ve İşlemleri   \n",
        "\n",
        "Listeler, birden fazla veri tipini içinde barındırabilen, sıralı ve değiştirilebilir veri yapılarıdır. Köşeli parantezler [ ] kullanılarak tanımlanmaktadırlar.\n",
        "\n",
        "9.2. Python Programlama Dili Üzerinde Demet Yapısı ve İşlemleri  \n",
        "\n",
        "Demetler, sıralı ama değiştirilemez (immutable) veri yapılarıdır. Parantez ( ) kullanılarak tanımlanır. Sabit veriler için ideal bir veri yapısıdır.\n",
        "\n",
        "9.3. Python Programlama Dili Üzerinde Sözlük Yapısı ve İşlemleri\n",
        "\n",
        "Sözlükler, anahtar-değer (key-value) çiftleri olarak tanımlanan, sırasız veri yapılarıdır. Süslü parantez { } ile tanımlanır. Dinamik olarak veri eklenebilir, değiştirilebilir, anahtarlar benzersizdir ve değerler tekrar edebilir.\n",
        "\n",
        "9.4. Liste, Demet ve Sözlük Veri Yapılarının Karşılaştırılması\n",
        "\n",
        "| Özellik              | Liste    | Demet    | Sözlük           |\n",
        "|----------------------|----------|----------|------------------|\n",
        "| **Sıralı mı?**       | Evet     | Evet     | Hayır            |\n",
        "| **Değiştirilebilir mi?** | Evet | Hayır    | Evet (değerler)  |\n",
        "| **Anahtar Değeri Var mı?** | Hayır | Hayır   | Evet             |\n",
        "| **Tekrar Eden Elemanlar?** | Evet | Evet    | Evet (değerler)  |\n",
        "| **Kullanım Alanı**   | Dinamik Veri | Sabit Veri | Anahtar-Değer İlişkileri |\n"
      ],
      "metadata": {
        "id": "N8O0VC5oQ898"
      }
    },
    {
      "cell_type": "code",
      "source": [
        "meyveler = [\"Elma\", \"Armut\", \"Muz\"] # Liste (List) veri yapısı örneği\n",
        "print(meyveler[0])  # İlk elemana erişim"
      ],
      "metadata": {
        "colab": {
          "base_uri": "https://localhost:8080/"
        },
        "id": "p-7kbL4IUR0F",
        "outputId": "86074101-7bf8-4d8a-a335-6ba99911537a"
      },
      "execution_count": 2,
      "outputs": [
        {
          "output_type": "stream",
          "name": "stdout",
          "text": [
            "Elma\n"
          ]
        }
      ]
    },
    {
      "cell_type": "code",
      "source": [
        "# List veri tipi örneği - 1) Bir listenin elemanlarının toplam, maksimum ve minimum değerlerini bulma\n",
        "sayilar = [10, 20, 30, 40, 50]\n",
        "\n",
        "# Toplam hesaplama\n",
        "toplam = sum(sayilar)\n",
        "print(\"Toplam:\", toplam)\n",
        "\n",
        "# Maksimum ve minimum değer bulma\n",
        "print(\"En büyük sayı:\", max(sayilar))\n",
        "print(\"En küçük sayı:\", min(sayilar))"
      ],
      "metadata": {
        "colab": {
          "base_uri": "https://localhost:8080/"
        },
        "id": "cjoNiZaH4uI2",
        "outputId": "8e547e0d-240f-4a82-d349-4c409f8bad46"
      },
      "execution_count": null,
      "outputs": [
        {
          "output_type": "stream",
          "name": "stdout",
          "text": [
            "Toplam: 150\n",
            "En büyük sayı: 50\n",
            "En küçük sayı: 10\n"
          ]
        }
      ]
    },
    {
      "cell_type": "code",
      "source": [
        "# List veri tipi örneği - 2) For ve if ile çift sayıları bulma\n",
        "liste = [2, 3, 5, 6, 8, 11, 14]\n",
        "\n",
        "numaralistesi = [] # Çift sayıları tutmak için boş liste\n",
        "\n",
        "for i in liste:\n",
        "    if i % 2 == 0:\n",
        "        numaralistesi.append(i)\n",
        "\n",
        "print(\"Listede bulunan çift sayılar:\", numaralistesi)\n",
        "print(\"Adet çift sayı\", len(numaralistesi), \"bulunmaktadır !!!\")"
      ],
      "metadata": {
        "colab": {
          "base_uri": "https://localhost:8080/"
        },
        "id": "dAOkDAQD2HX0",
        "outputId": "3ed1a7e9-fc22-482a-c4c2-990265808d22"
      },
      "execution_count": null,
      "outputs": [
        {
          "output_type": "stream",
          "name": "stdout",
          "text": [
            "Listede bulunan çift sayılar: [2, 6, 8, 14]\n",
            "Adet çift sayı 4 bulunmaktadır !!!\n"
          ]
        }
      ]
    },
    {
      "cell_type": "code",
      "source": [
        "# List veri tipi örneği - 3) Malzeme Listesi\n",
        "\n",
        "liste = [\"elma\", \"muz\", \"çilek\", \"su\", \"cikolata\"] # Malzeme Listesi\n",
        "\n",
        "aranacak_urun = \"muz\" # Aranacak eleman\n",
        "\n",
        "if aranacak_urun in liste:\n",
        "    print(aranacak_urun, \"liste içerisinde mevcut.\")\n",
        "else:\n",
        "    print(aranacak_urun, \"liste içerisinde mevcut değil.\")"
      ],
      "metadata": {
        "colab": {
          "base_uri": "https://localhost:8080/"
        },
        "id": "0a40cRW_2M-e",
        "outputId": "b03a1c29-a1f5-4a30-f1b9-8fa97fff7fc4"
      },
      "execution_count": null,
      "outputs": [
        {
          "output_type": "stream",
          "name": "stdout",
          "text": [
            "muz liste içerisinde mevcut.\n"
          ]
        }
      ]
    },
    {
      "cell_type": "code",
      "source": [
        "# List veri tipi örneği - 4) Malzeme Listesi\n",
        "\n",
        "liste = [\"elma\", \"muz\", \"çilek\", \"su\", \"cikolata\"]\n",
        "\n",
        "aranacak_urun = input(\"Aranacak Ürün Nedir? \") # Aranacak eleman\n",
        "\n",
        "if aranacak_urun in liste:\n",
        "    print(aranacak_urun, \"liste içerisinde mevcut.\")\n",
        "else:\n",
        "    print(aranacak_urun, \"liste içerisinde mevcut değil.\")"
      ],
      "metadata": {
        "colab": {
          "base_uri": "https://localhost:8080/"
        },
        "id": "xpR_uYLe2Nrf",
        "outputId": "f7b8ccf5-a09d-4b7a-9a77-9ecc0b5bc1c1"
      },
      "execution_count": null,
      "outputs": [
        {
          "output_type": "stream",
          "name": "stdout",
          "text": [
            "Aranacak Ürün Nedir? elma\n",
            "elma liste içerisinde mevcut.\n"
          ]
        }
      ]
    },
    {
      "cell_type": "code",
      "source": [
        "renkler = (\"Kırmızı\", \"Mavi\", \"Yeşil\") # Demet (Tuple) veri yapısı\n",
        "print(renkler[1]) # 'Mavi' çıktısı verir"
      ],
      "metadata": {
        "colab": {
          "base_uri": "https://localhost:8080/"
        },
        "id": "Fh66519KU4HD",
        "outputId": "b2c4ae89-371a-4bb2-e92e-5303422ac057"
      },
      "execution_count": 6,
      "outputs": [
        {
          "output_type": "stream",
          "name": "stdout",
          "text": [
            "Mavi\n"
          ]
        }
      ]
    },
    {
      "cell_type": "code",
      "source": [
        "# Demet veri tipi örneği - 1) Haftanın günlerini bir demet içinde tanımlama\n",
        "hafta_gunleri = (\"Pazartesi\", \"Salı\", \"Çarşamba\", \"Perşembe\", \"Cuma\", \"Cumartesi\", \"Pazar\")\n",
        "\n",
        "# Elemanları yazdırma\n",
        "print(\"Haftanın günleri:\")\n",
        "for gun in hafta_gunleri:\n",
        "    print(gun)"
      ],
      "metadata": {
        "colab": {
          "base_uri": "https://localhost:8080/"
        },
        "id": "kwUlObNI5rc-",
        "outputId": "52ceb54c-5c1d-42a8-af98-7cc7cd12d911"
      },
      "execution_count": null,
      "outputs": [
        {
          "output_type": "stream",
          "name": "stdout",
          "text": [
            "Haftanın günleri:\n",
            "Pazartesi\n",
            "Salı\n",
            "Çarşamba\n",
            "Perşembe\n",
            "Cuma\n",
            "Cumartesi\n",
            "Pazar\n"
          ]
        }
      ]
    },
    {
      "cell_type": "code",
      "source": [
        "# Demet veri tipi örneği - 2) Öğrencilerin adları ve notları bir demette saklanıyor\n",
        "ogrenciler = (\n",
        "    (\"Ali\", (85, 90, 78)),\n",
        "    (\"Ayşe\", (88, 76, 92)),\n",
        "    (\"Mehmet\", (70, 85, 80)),\n",
        "    (\"Zeynep\", (95, 90, 93))\n",
        ")\n",
        "\n",
        "# Her öğrencinin ortalama notunu hesaplama\n",
        "for ogrenci in ogrenciler:\n",
        "    isim = ogrenci[0]\n",
        "    notlar = ogrenci[1]\n",
        "    ortalama = sum(notlar) / len(notlar)\n",
        "    print(isim, \" adlı öğrencinin ortalaması: \", ortalama)"
      ],
      "metadata": {
        "colab": {
          "base_uri": "https://localhost:8080/"
        },
        "id": "4HJoFAwR5vu1",
        "outputId": "d243a155-7595-493e-88b8-73d73b435248"
      },
      "execution_count": null,
      "outputs": [
        {
          "output_type": "stream",
          "name": "stdout",
          "text": [
            "Ali  adlı öğrencinin ortalaması:  84.33333333333333\n",
            "Ayşe  adlı öğrencinin ortalaması:  85.33333333333333\n",
            "Mehmet  adlı öğrencinin ortalaması:  78.33333333333333\n",
            "Zeynep  adlı öğrencinin ortalaması:  92.66666666666667\n"
          ]
        }
      ]
    },
    {
      "cell_type": "code",
      "source": [
        "ogrenci = {\"ad\": \"Ali\", \"yas\": 30} # Sözlük (Dictionary) veri yapısı\n",
        "ogrenci[\"okul\"] = \"İGÜ\"     # Yeni anahtar ekleme\n",
        "print(ogrenci[\"ad\"])   # 'Ali' çıktısı verir\n",
        "print(ogrenci)"
      ],
      "metadata": {
        "colab": {
          "base_uri": "https://localhost:8080/"
        },
        "id": "uGyX28gZVC61",
        "outputId": "5e1a07a4-3f40-460e-8b68-11e9f505eef0"
      },
      "execution_count": 8,
      "outputs": [
        {
          "output_type": "stream",
          "name": "stdout",
          "text": [
            "Ali\n",
            "{'ad': 'Ali', 'yas': 30, 'okul': 'İGÜ'}\n"
          ]
        }
      ]
    },
    {
      "cell_type": "code",
      "source": [
        "# Sözlük veri tipi örneği - 1 Öğrenci Bilgileri\n",
        "\n",
        "ogrenci = {\n",
        "    \"isim\": \"Ali\",\n",
        "    \"yaş\": 25,\n",
        "    \"ders\": \"Python Programlama\",\n",
        "    \"not\": 90\n",
        "}\n",
        "\n",
        "# Bilgilerin yazdırılması\n",
        "print(\"Öğrenci Bilgileri:\")\n",
        "for anahtar, değer in ogrenci.items():\n",
        "    print(anahtar, değer)"
      ],
      "metadata": {
        "colab": {
          "base_uri": "https://localhost:8080/"
        },
        "id": "wO64f-x-2Ppb",
        "outputId": "cc42293d-87bc-4621-eff2-31e9e6c0d604"
      },
      "execution_count": null,
      "outputs": [
        {
          "output_type": "stream",
          "name": "stdout",
          "text": [
            "Öğrenci Bilgileri:\n",
            "isim Ali\n",
            "yaş 25\n",
            "ders Python Programlama\n",
            "not 90\n"
          ]
        }
      ]
    },
    {
      "cell_type": "code",
      "source": [
        "# Sözlük veri tipi örneği - 2 Ürünler ve fiyatları\n",
        "sepet = {\"Elma\": 3, \"Muz\": 2, \"Portakal\": 4}\n",
        "\n",
        "# Toplam tutar hesaplama\n",
        "toplam_tutar = sum(sepet.values())\n",
        "print(\"Toplam Tutar:\", toplam_tutar, \"TL\")\n",
        "\n",
        "# Yeni ürün ekleme\n",
        "sepet[\"Kiraz\"] = 6\n",
        "print(\"Güncellenmiş Sepet:\", sepet)"
      ],
      "metadata": {
        "colab": {
          "base_uri": "https://localhost:8080/"
        },
        "id": "1oUJ2x995R9G",
        "outputId": "0af353df-d5b4-4f1d-a3b4-7e86d94bfac0"
      },
      "execution_count": null,
      "outputs": [
        {
          "output_type": "stream",
          "name": "stdout",
          "text": [
            "Toplam Tutar: 9 TL\n",
            "Güncellenmiş Sepet: {'Elma': 3, 'Muz': 2, 'Portakal': 4, 'Kiraz': 6}\n"
          ]
        }
      ]
    }
  ]
}