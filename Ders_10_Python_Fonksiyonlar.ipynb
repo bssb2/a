{
  "nbformat": 4,
  "nbformat_minor": 0,
  "metadata": {
    "colab": {
      "provenance": []
    },
    "kernelspec": {
      "name": "python3",
      "display_name": "Python 3"
    },
    "language_info": {
      "name": "python"
    }
  },
  "cells": [
    {
      "cell_type": "markdown",
      "source": [
        "Python + Google Colab: Algoritmalar ve Veri Yapıları Eğitimi (Sıfırdan İleriye)    \n",
        "Ders 10. Python Programlama Dili Üzerinde Fonksiyon Kullanımı ve Örnekleri\n",
        "\n",
        "Github Kaynagı:       \n",
        "https://github.com/acetinkaya/Python-Google-Colab-Algoritmalar-ve-Veri-Yapilari-Egitimi --> D10\n",
        "\n",
        "Öğr. Gör. Ali ÇETİNKAYA - 2025"
      ],
      "metadata": {
        "id": "0ay-Cjl8h8zX"
      }
    },
    {
      "cell_type": "code",
      "execution_count": 1,
      "metadata": {
        "colab": {
          "base_uri": "https://localhost:8080/"
        },
        "id": "ysRIoo1kh3te",
        "outputId": "79451079-789d-4145-b622-fac6bafb19b4"
      },
      "outputs": [
        {
          "output_type": "stream",
          "name": "stdout",
          "text": [
            "Merhaba, Python Veri Yapıları ve Algoritmalar / Ders 10\n"
          ]
        }
      ],
      "source": [
        "print(\"Merhaba, Python Veri Yapıları ve Algoritmalar / Ders 10\")"
      ]
    },
    {
      "cell_type": "code",
      "source": [
        "import sys  # import python programlama dilinde yazılıma kütüphane eklemeye yarayan bir kod blogudur.\n",
        "print(sys.version)"
      ],
      "metadata": {
        "colab": {
          "base_uri": "https://localhost:8080/"
        },
        "id": "Q6APfMkPM1oQ",
        "outputId": "8b00bac8-7a10-48e3-b67a-ec9311811a6f"
      },
      "execution_count": 2,
      "outputs": [
        {
          "output_type": "stream",
          "name": "stdout",
          "text": [
            "3.11.11 (main, Dec  4 2024, 08:55:07) [GCC 11.4.0]\n"
          ]
        }
      ]
    },
    {
      "cell_type": "code",
      "source": [
        "from google.colab import drive # google colab - drive bağlantısı\n",
        "\n",
        "drive.mount('/content/drive')"
      ],
      "metadata": {
        "colab": {
          "base_uri": "https://localhost:8080/"
        },
        "id": "3RK_pb147Ahg",
        "outputId": "85bf5df4-8226-48bb-84b4-2ab7d3c80742"
      },
      "execution_count": 3,
      "outputs": [
        {
          "output_type": "stream",
          "name": "stdout",
          "text": [
            "Mounted at /content/drive\n"
          ]
        }
      ]
    },
    {
      "cell_type": "code",
      "source": [
        "import os\n",
        "\n",
        "os.chdir('/content/drive/My Drive/VERIYAPILARI_PYTHON')\n",
        "\n",
        "!pwd # bize kodun çıktısını dosya yolu olarak veren kod blogudur."
      ],
      "metadata": {
        "colab": {
          "base_uri": "https://localhost:8080/"
        },
        "id": "PVUKOmiV7SNV",
        "outputId": "794a1edf-dcf6-421e-8ded-a072c017aa5b"
      },
      "execution_count": 4,
      "outputs": [
        {
          "output_type": "stream",
          "name": "stdout",
          "text": [
            "/content/drive/My Drive/VERIYAPILARI_PYTHON\n"
          ]
        }
      ]
    },
    {
      "cell_type": "markdown",
      "source": [
        "## Ders 10. Python Programlama Dili Üzerinde Fonksiyon Kullanımı ve Örnekleri  \n",
        "\n",
        "Fonksiyonlar, belirli bir kod üzerinde ilgili görevi gerçekleştiren kod bloklarıdır.\n",
        "\n",
        "Kullanım amacı:\n",
        "*   Kodun okunabilirliğini artırmak.\n",
        "*   Kodun Tekrarını Azaltır\n",
        "*   Büyük projelerde iş yükünü azaltmak.\n",
        "\n",
        "Bir fonksiyon tanımlandığında, ona bir özel isim verilir ve gerektiğinde bu isimle çağrılarak çalıştırılır."
      ],
      "metadata": {
        "id": "N8O0VC5oQ898"
      }
    },
    {
      "cell_type": "code",
      "source": [
        "deger1 = 50\n",
        "\n",
        "def fonksiyon_adi(parametre):\n",
        "  #işlemlerimiz bu kısma yazılacak\n",
        "  sonuc = parametre*2 + 9 * 8\n",
        "  # sonuc = 50*2+72 = 172\n",
        "  return sonuc\n",
        "\n",
        "gelenveri = fonksiyon_adi(deger1)\n",
        "\n",
        "print(gelenveri)"
      ],
      "metadata": {
        "colab": {
          "base_uri": "https://localhost:8080/"
        },
        "id": "czyO4rpoMYwU",
        "outputId": "3e62ff0d-26a7-4d13-c454-25ef9fa40102"
      },
      "execution_count": 5,
      "outputs": [
        {
          "output_type": "stream",
          "name": "stdout",
          "text": [
            "172\n"
          ]
        }
      ]
    },
    {
      "cell_type": "code",
      "source": [
        "deger1 = 10\n",
        "deger2 = 20\n",
        "deger3 = 30\n",
        "\n",
        "def fonksiyon2(s1, s2, s3):\n",
        "  sonuc = s1 * s2 / s3\n",
        "  # sonuc = 10 * 20 / 30 = 6.67\n",
        "  return sonuc\n",
        "\n",
        "gelenveri2 = fonksiyon2(deger1, deger2, deger3)\n",
        "\n",
        "#print(gelenveri)\n",
        "print(gelenveri2)"
      ],
      "metadata": {
        "colab": {
          "base_uri": "https://localhost:8080/"
        },
        "id": "Bq9o1g-yNnkw",
        "outputId": "99727cf2-47ce-42aa-b916-8b7bb45d608c"
      },
      "execution_count": 6,
      "outputs": [
        {
          "output_type": "stream",
          "name": "stdout",
          "text": [
            "6.666666666666667\n"
          ]
        }
      ]
    },
    {
      "cell_type": "markdown",
      "source": [
        "# Fonksiyon Tanımlama Türleri\n",
        "\n",
        "1. Parametresiz ve Dönüş Değeri Olmayan Fonksiyon\n",
        "2. Parametre Alan ve Dönüş Değeri Olmayan Fonksiyon\n",
        "3. Parametre Alan ve Dönüş Değeri Döndüren Fonksiyon\n",
        "4. İç İçe Fonksiyonlar"
      ],
      "metadata": {
        "id": "4VaCWHMxe2du"
      }
    },
    {
      "cell_type": "code",
      "source": [
        "# 1. Parametresiz ve Dönüş Değeri Olmayan Fonksiyon\n",
        "\n",
        "def selam_ver():\n",
        "  print(\"Merhaba! Python Programlama Diline Hoş Geldiniz\")\n",
        "\n",
        "selam_ver()"
      ],
      "metadata": {
        "id": "NK4YpJ7HMas2",
        "colab": {
          "base_uri": "https://localhost:8080/"
        },
        "outputId": "1a343b30-577c-4a08-dc3b-474992a04519"
      },
      "execution_count": 7,
      "outputs": [
        {
          "output_type": "stream",
          "name": "stdout",
          "text": [
            "Merhaba! Python Programlama Diline Hoş Geldiniz\n"
          ]
        }
      ]
    },
    {
      "cell_type": "code",
      "source": [
        "# 2. Parametre Alan ve Dönüş Değeri Olmayan Fonksiyon\n",
        "\n",
        "def kare_hesaplama(sayi):\n",
        "  print(sayi, \"sayinın karesi: \", sayi ** 2)\n",
        "\n",
        "kare_hesaplama(3)"
      ],
      "metadata": {
        "colab": {
          "base_uri": "https://localhost:8080/"
        },
        "id": "770lfbHApKJE",
        "outputId": "8bb64a80-38a1-46c3-cd9e-7e6066d0a9e3"
      },
      "execution_count": 8,
      "outputs": [
        {
          "output_type": "stream",
          "name": "stdout",
          "text": [
            "3 sayinın karesi:  9\n"
          ]
        }
      ]
    },
    {
      "cell_type": "code",
      "source": [
        "# 2. Parametre Alan ve Dönüş Değeri Olmayan Fonksiyon - örnek 2\n",
        "\n",
        "def kare_hesaplama(sayi):\n",
        "  print(sayi, \"sayinın karesi: \", sayi ** 2)\n",
        "\n",
        "gelen_deger = int(input(\"Bir sayı giriniz:\"))\n",
        "\n",
        "kare_hesaplama(gelen_deger)"
      ],
      "metadata": {
        "colab": {
          "base_uri": "https://localhost:8080/"
        },
        "id": "KBRXFAHwqrVr",
        "outputId": "c4814dcb-e357-44d7-e560-13d431f11f92"
      },
      "execution_count": 9,
      "outputs": [
        {
          "output_type": "stream",
          "name": "stdout",
          "text": [
            "Bir sayı giriniz:1\n",
            "1 sayinın karesi:  1\n"
          ]
        }
      ]
    },
    {
      "cell_type": "code",
      "source": [
        "# 3. Parametre Alan ve Dönüş Değeri Döndüren Fonksiyon\n",
        "\n",
        "def alan_hesaplama(kenar1, kenar2):\n",
        "  return kenar1 * kenar2\n",
        "\n",
        "dikdortgen_alan = alan_hesaplama(5, 10)\n",
        "\n",
        "print(\"Dikdörtgenin Alanı:\", dikdortgen_alan)"
      ],
      "metadata": {
        "colab": {
          "base_uri": "https://localhost:8080/"
        },
        "id": "qUkiur5EpKNd",
        "outputId": "387856f6-955c-4c3f-9f59-090c38568581"
      },
      "execution_count": 10,
      "outputs": [
        {
          "output_type": "stream",
          "name": "stdout",
          "text": [
            "Dikdörtgenin Alanı: 50\n"
          ]
        }
      ]
    },
    {
      "cell_type": "code",
      "source": [
        "# 4. İç İçe Fonksiyonlar\n",
        "\n",
        "def buyuk_harf_yazdir(metin):\n",
        "  def buyuk_harf_cevir(metin):\n",
        "    return metin.upper()\n",
        "  print(\"Buyuk harfli metin bilgisi: \", buyuk_harf_cevir(metin))\n",
        "\n",
        "buyuk_harf_yazdir(\"python\")"
      ],
      "metadata": {
        "colab": {
          "base_uri": "https://localhost:8080/"
        },
        "id": "wJxOnrKKpKTQ",
        "outputId": "3a7d3ecd-ee94-4a6c-dec6-e123e5c8b7de"
      },
      "execution_count": 11,
      "outputs": [
        {
          "output_type": "stream",
          "name": "stdout",
          "text": [
            "Buyuk harfli metin bilgisi:  PYTHON\n"
          ]
        }
      ]
    },
    {
      "cell_type": "markdown",
      "source": [
        "## Fonksiyon Örnekleri"
      ],
      "metadata": {
        "id": "9Z_vPf76_J0f"
      }
    },
    {
      "cell_type": "code",
      "source": [
        "# Matematiksel Toplama İşlemi\n",
        "\n",
        "def toplam(a, b):\n",
        "  return a + b\n",
        "\n",
        "sonuc = toplam(5, 3)\n",
        "\n",
        "print(\"Toplamın Sonucu: \", sonuc)"
      ],
      "metadata": {
        "colab": {
          "base_uri": "https://localhost:8080/"
        },
        "id": "uCzVny-uE0K8",
        "outputId": "c34c0305-bc9e-4e16-82b0-409cc7147947"
      },
      "execution_count": 12,
      "outputs": [
        {
          "output_type": "stream",
          "name": "stdout",
          "text": [
            "Toplamın Sonucu:  8\n"
          ]
        }
      ]
    },
    {
      "cell_type": "code",
      "source": [
        "# listenin elemanlarında toplam işlemi ve listenin ortalamasını bulma\n",
        "\n",
        "sayilar = [1, 2, 3, 4, 5, 6]\n",
        "\n",
        "def liste_toplam(liste):\n",
        "  toplam = 0\n",
        "  for eleman in liste:\n",
        "    toplam = toplam + eleman # --> toplam += elaman\n",
        "  return toplam\n",
        "\n",
        "Toplam_sonuc = liste_toplam(sayilar)\n",
        "\n",
        "ortalama_sonuc = Toplam_sonuc / len(sayilar)\n",
        "\n",
        "print(\"Sonuc: \", Toplam_sonuc)\n",
        "print(\"Ortalama Sonuc: \", ortalama_sonuc)"
      ],
      "metadata": {
        "colab": {
          "base_uri": "https://localhost:8080/"
        },
        "id": "yL38yA2-E1gu",
        "outputId": "684bd9ea-37c5-4a5d-e74d-a5f0702e99e1"
      },
      "execution_count": 15,
      "outputs": [
        {
          "output_type": "stream",
          "name": "stdout",
          "text": [
            "Sonuc:  21\n",
            "Ortalama Sonuc:  3.5\n"
          ]
        }
      ]
    },
    {
      "cell_type": "code",
      "source": [
        "# Sayıların Faktöriyelini hesaplama\n",
        "def faktoriyel(veri):\n",
        "  if veri == 0 or veri == 1:\n",
        "    return 1\n",
        "  return veri * faktoriyel(veri - 1)\n",
        "\n",
        "kullanici_bilgisi = int(input(\"Faktöriyel Hesabında Kullanılacak Sayıyı Giriniz !!\"))\n",
        "\n",
        "sonuc = faktoriyel(kullanici_bilgisi)\n",
        "\n",
        "print(sonuc)"
      ],
      "metadata": {
        "colab": {
          "base_uri": "https://localhost:8080/"
        },
        "id": "oqX5IVGcE1jJ",
        "outputId": "e5ceee11-339d-45d2-a3ec-6b789bb6fa38"
      },
      "execution_count": 17,
      "outputs": [
        {
          "output_type": "stream",
          "name": "stdout",
          "text": [
            "Faktöriyel Hesabında Kullanılacak Sayıyı Giriniz !!5\n",
            "120\n"
          ]
        }
      ]
    },
    {
      "cell_type": "markdown",
      "source": [
        "Örnek - 8 -> Python programlama dili üzerinde fonksiyonlara kullanılarak kullanıcından alınan iki sayı değişkeninin ebob ve ekok değerlerini bulma.\n",
        "\n",
        "EBOB - En Büyük Ortak Bölen : İki veya daha fazla sayının bölenleri arasında en büyük olanıdır.\n",
        "\n",
        "EKOK - En Küçük Ortak Kat : İki veya daha fazla sayının katları arasında en küçük olanıdır.\n",
        "\n",
        "--------------------------------------------------------------------------------\n",
        "\n",
        "Örneğin, 18 ve 24 sayılarının EBOB ve EKOK -->\n",
        "\n",
        "18'in bölenleri: 1, 2, 3, 6, 9, 18\n",
        "\n",
        "24'ün bölenleri: 1, 2, 3, 4, 6, 8, 12, 24\n",
        "\n",
        "Ortak bölenler: 1, 2, 3, 6\n",
        "\n",
        "EBOB (En büyük ortak bölen) --> 6\n",
        "\n",
        "--------------------------------------------------------------------------------\n",
        "\n",
        "EKOK (En Küçük Ortak Kat):\n",
        "\n",
        "18'in katları: 18, 36, 54, 72, 90, ....\n",
        "\n",
        "24'ün katları: 24, 48, 72, 96, ....\n",
        "\n",
        "Ortak katlar: 72, 144, ...\n",
        "\n",
        "En küçük ortak kat: 72 (EKOK)\n",
        "\n",
        "18 ve 24 sayılarının EBOB'u 6, EKOK'u ise 72'dir."
      ],
      "metadata": {
        "id": "gW6IGDj68IlD"
      }
    },
    {
      "cell_type": "code",
      "source": [
        "def ebob(s1, s2):\n",
        "  while s2 != 0:\n",
        "    ilk_deger = s1\n",
        "    s1 = s2\n",
        "    s2 = ilk_deger % s2\n",
        "  return s1\n",
        "\n",
        "def ekok(s3, s4):\n",
        "  ebob_degeri = ebob(s3, s4)\n",
        "  carpim = s3 * s4\n",
        "  ekok_sonuc = carpim // ebob_degeri\n",
        "  return ekok_sonuc\n",
        "\n",
        "try:\n",
        "  birinci_sayi = int(input(\"ilk Sayıyı Giriniz\"))\n",
        "  ikinci_sayi = int(input(\"ikinci Sayıyı Giriniz\"))\n",
        "\n",
        "  if birinci_sayi <= 0 or ikinci_sayi <= 0:\n",
        "    print(\"Pozitif Sayını Giriniz\")\n",
        "  else:\n",
        "    # ebob ve ekok hesabına giriyoruz\n",
        "    ebob_sonuc = ebob(birinci_sayi, ikinci_sayi)\n",
        "    ekok_sonuc = ekok(birinci_sayi, ikinci_sayi)\n",
        "    print(\"Ebob sonuc:\", ebob_sonuc)\n",
        "    print(\"Ekok sonuc:\", ekok_sonuc)\n",
        "\n",
        "except ValueError:\n",
        "  print(\"Hatalı Değer Girişi Yapıldı, Lütfen Sayı Giriniz\")"
      ],
      "metadata": {
        "colab": {
          "base_uri": "https://localhost:8080/"
        },
        "id": "8iOR0wneXC3S",
        "outputId": "f451a0c1-4ceb-4788-e7f1-4c554094060b"
      },
      "execution_count": 22,
      "outputs": [
        {
          "output_type": "stream",
          "name": "stdout",
          "text": [
            "ilk Sayıyı Giriniz18\n",
            "ikinci Sayıyı Giriniz24\n",
            "Ebob sonuc: 6\n",
            "Ekok sonuc: 72\n"
          ]
        }
      ]
    },
    {
      "cell_type": "code",
      "source": [
        "# bir sayının asal sayı olup olmama durumunu kontrol etme algoritmasını oluşturacağız.\n",
        "\n",
        "def asalsayi(s1):\n",
        "  if s1 < 2:\n",
        "    return False # 2'den küçük sayılar asal değildir.\n",
        "\n",
        "  for i in range(2, int(s1 ** 0.5) + 1):\n",
        "    if s1 % i == 0:\n",
        "      return False\n",
        "\n",
        "  return True\n",
        "\n",
        "try:\n",
        "  sayi = int(input(\"Bir Sayı Gir\"))\n",
        "\n",
        "  if sayi < 0:\n",
        "    print(\"Negatif sayı girilmemelidir.\")\n",
        "  else:\n",
        "    sonuc = asalsayi(sayi)\n",
        "\n",
        "    if sonuc == True:\n",
        "      print(\"Girdiğiniz sayı asaldır.\")\n",
        "    else:\n",
        "      print(\"Girdiğiniz sayı asal değildir.\")\n",
        "\n",
        "except ValueError:\n",
        "  print(\"Hatalı Değer Girişi Yapıldı, Lütfen Sayı Giriniz\")"
      ],
      "metadata": {
        "colab": {
          "base_uri": "https://localhost:8080/"
        },
        "id": "Fc6fp-dwb4EU",
        "outputId": "6b162d91-74d8-429d-a74f-861807ed6fda"
      },
      "execution_count": 30,
      "outputs": [
        {
          "output_type": "stream",
          "name": "stdout",
          "text": [
            "Bir Sayı Gir8\n",
            "Girdiğiniz sayı asal değildir.\n"
          ]
        }
      ]
    }
  ]
}